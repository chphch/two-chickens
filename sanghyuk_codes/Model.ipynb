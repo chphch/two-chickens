{
 "cells": [
  {
   "cell_type": "code",
   "execution_count": 2,
   "metadata": {},
   "outputs": [],
   "source": [
    "import numpy as np\n",
    "import tensorflow as tf\n",
    "import random\n",
    "import pandas as pd"
   ]
  },
  {
   "cell_type": "code",
   "execution_count": 231,
   "metadata": {
    "collapsed": true
   },
   "outputs": [],
   "source": [
    "tf.reset_default_graph()\n"
   ]
  },
  {
   "cell_type": "code",
   "execution_count": 232,
   "metadata": {
    "collapsed": true
   },
   "outputs": [],
   "source": [
    "filename = \"dataset_kor_OSX/교통사망사고정보/Kor_Train_교통사망사고정보(12.1~17.6).csv\"\n",
    "traffic = np.loadtxt(filename\n",
    "                     , delimiter=',', dtype=np.str_, skiprows=True)"
   ]
  },
  {
   "cell_type": "code",
   "execution_count": 233,
   "metadata": {
    "collapsed": true
   },
   "outputs": [],
   "source": [
    "traffic1= traffic"
   ]
  },
  {
   "cell_type": "code",
   "execution_count": 234,
   "metadata": {},
   "outputs": [
    {
     "data": {
      "text/plain": [
       "(25037, 27)"
      ]
     },
     "execution_count": 234,
     "metadata": {},
     "output_type": "execute_result"
    }
   ],
   "source": [
    "traffic1.shape"
   ]
  },
  {
   "cell_type": "code",
   "execution_count": 235,
   "metadata": {},
   "outputs": [
    {
     "name": "stdout",
     "output_type": "stream",
     "text": [
      "[False, True, False, True, True, True, True, True, True, True, True, True, True, True, True, True, True, True, True, True, True, True, True, True, True, True, True]\n"
     ]
    }
   ],
   "source": [
    "#발생년, 발생분 제외\n",
    "index =[]\n",
    "for i in range(27):\n",
    "    if(i==0 or i == 2):\n",
    "        index.append(False)\n",
    "    else:\n",
    "        index.append(True)\n",
    "    \n",
    "print(index)    "
   ]
  },
  {
   "cell_type": "code",
   "execution_count": 236,
   "metadata": {
    "collapsed": true
   },
   "outputs": [],
   "source": [
    "traffic1= traffic1[:, index]"
   ]
  },
  {
   "cell_type": "code",
   "execution_count": 237,
   "metadata": {},
   "outputs": [
    {
     "data": {
      "text/plain": [
       "array([['2017063023', '야간', '금', ..., '1937456', '127.1341305',\n",
       "        '37.4357039'],\n",
       "       ['2017063021', '야간', '금', ..., '1696405', '127.1312203',\n",
       "        '35.2625338'],\n",
       "       ['2017063021', '야간', '금', ..., '1865697', '126.3799216',\n",
       "        '36.7841423'],\n",
       "       ...,\n",
       "       ['2012010102', '야간', '일', ..., '1942819', '127.0348466',\n",
       "        '37.48369509'],\n",
       "       ['2012010101', '야간', '일', ..., '1737729', '126.9094055',\n",
       "        '35.63407671'],\n",
       "       ['2012010101', '야간', '일', ..., '1957198', '126.9318767',\n",
       "        '37.61284962']], dtype='<U15')"
      ]
     },
     "execution_count": 237,
     "metadata": {},
     "output_type": "execute_result"
    }
   ],
   "source": [
    "traffic1"
   ]
  },
  {
   "cell_type": "code",
   "execution_count": 238,
   "metadata": {},
   "outputs": [
    {
     "data": {
      "text/plain": [
       "array(['2017063023', '2017063021', '2017063021', ..., '2012010102',\n",
       "       '2012010101', '2012010101'], dtype='<U15')"
      ]
     },
     "execution_count": 238,
     "metadata": {},
     "output_type": "execute_result"
    }
   ],
   "source": [
    "traffic1[:, 0]"
   ]
  },
  {
   "cell_type": "code",
   "execution_count": 239,
   "metadata": {},
   "outputs": [
    {
     "data": {
      "text/plain": [
       "(25037, 25)"
      ]
     },
     "execution_count": 239,
     "metadata": {},
     "output_type": "execute_result"
    }
   ],
   "source": [
    "traffic1.shape"
   ]
  },
  {
   "cell_type": "code",
   "execution_count": 240,
   "metadata": {},
   "outputs": [
    {
     "data": {
      "text/plain": [
       "int"
      ]
     },
     "execution_count": 240,
     "metadata": {},
     "output_type": "execute_result"
    }
   ],
   "source": [
    "type(len(traffic1))"
   ]
  },
  {
   "cell_type": "code",
   "execution_count": 241,
   "metadata": {},
   "outputs": [],
   "source": [
    "#발생년월일시 중 발생 월말 빼오기\n",
    "month_array= []\n",
    "num=0\n",
    "for i in traffic1[:,0]:\n",
    "    month_array.append(i[4:6])\n",
    "    num+=1\n"
   ]
  },
  {
   "cell_type": "code",
   "execution_count": 242,
   "metadata": {
    "collapsed": true
   },
   "outputs": [],
   "source": [
    "traffic1[:, 0]= month_array"
   ]
  },
  {
   "cell_type": "code",
   "execution_count": 243,
   "metadata": {
    "collapsed": true
   },
   "outputs": [],
   "source": [
    "#make last 4 features float and normalize\n",
    "location_matrix = traffic1[:,-4:].astype(float)\n",
    "\n",
    "for i in range(location_matrix.shape[1]):\n",
    "    column = location_matrix[:,i]\n",
    "    numerator = column - np.min(column)\n",
    "    denominator= np.max(column)-np.min(column)\n",
    "    normalization = numerator / (denominator+ 1e-7)\n",
    "    location_matrix[:,i]=normalization"
   ]
  },
  {
   "cell_type": "code",
   "execution_count": 244,
   "metadata": {},
   "outputs": [
    {
     "data": {
      "text/plain": [
       "(25037, 4)"
      ]
     },
     "execution_count": 244,
     "metadata": {},
     "output_type": "execute_result"
    }
   ],
   "source": [
    "location_matrix.shape"
   ]
  },
  {
   "cell_type": "code",
   "execution_count": 245,
   "metadata": {
    "collapsed": true
   },
   "outputs": [],
   "source": [
    "traffic1[:,-4:] = location_matrix"
   ]
  },
  {
   "cell_type": "code",
   "execution_count": 246,
   "metadata": {},
   "outputs": [
    {
     "data": {
      "text/plain": [
       "array([['06', '야간', '금', ..., '0.9404418599570', '0.7079475328480',\n",
       "        '0.9415098802989'],\n",
       "       ['06', '야간', '금', ..., '0.8234356152813', '0.7077221581647',\n",
       "        '0.8261818287141'],\n",
       "       ['06', '야간', '금', ..., '0.9056100147803', '0.6495393162425',\n",
       "        '0.9069321314998'],\n",
       "       ...,\n",
       "       ['01', '야간', '일', ..., '0.9430450621433', '0.7002586875737',\n",
       "        '0.9440567266943'],\n",
       "       ['01', '야간', '일', ..., '0.8434943001861', '0.6905441496784',\n",
       "        '0.8458992543728'],\n",
       "       ['01', '야간', '일', ..., '0.9500246340687', '0.6922843873194',\n",
       "        '0.9509108336500']], dtype='<U15')"
      ]
     },
     "execution_count": 246,
     "metadata": {},
     "output_type": "execute_result"
    }
   ],
   "source": [
    "traffic1"
   ]
  },
  {
   "cell_type": "code",
   "execution_count": 247,
   "metadata": {},
   "outputs": [
    {
     "data": {
      "text/plain": [
       "(25037, 25)"
      ]
     },
     "execution_count": 247,
     "metadata": {},
     "output_type": "execute_result"
    }
   ],
   "source": [
    "traffic1.shape"
   ]
  },
  {
   "cell_type": "code",
   "execution_count": 248,
   "metadata": {
    "collapsed": true
   },
   "outputs": [],
   "source": [
    "y_data = traffic1[:, 1]"
   ]
  },
  {
   "cell_type": "code",
   "execution_count": 249,
   "metadata": {},
   "outputs": [
    {
     "data": {
      "text/plain": [
       "array(['야간', '야간', '야간', ..., '야간', '야간', '야간'], dtype='<U15')"
      ]
     },
     "execution_count": 249,
     "metadata": {},
     "output_type": "execute_result"
    }
   ],
   "source": [
    "y_data"
   ]
  },
  {
   "cell_type": "code",
   "execution_count": 250,
   "metadata": {
    "collapsed": true
   },
   "outputs": [],
   "source": [
    "#y 데이터로 쓸 컬럼 제거\n",
    "exclude_day_night_mask=[]\n",
    "for i in range(len(traffic1[0])):\n",
    "    if i != 1:\n",
    "        exclude_day_night_mask.append(True)\n",
    "    else:\n",
    "        exclude_day_night_mask.append(False)"
   ]
  },
  {
   "cell_type": "code",
   "execution_count": 251,
   "metadata": {
    "collapsed": true
   },
   "outputs": [],
   "source": [
    "traffic1= traffic1[:,exclude_day_night_mask]"
   ]
  },
  {
   "cell_type": "code",
   "execution_count": 252,
   "metadata": {},
   "outputs": [
    {
     "data": {
      "text/plain": [
       "array([['06', '금', '1', ..., '0.9404418599570', '0.7079475328480',\n",
       "        '0.9415098802989'],\n",
       "       ['06', '금', '1', ..., '0.8234356152813', '0.7077221581647',\n",
       "        '0.8261818287141'],\n",
       "       ['06', '금', '1', ..., '0.9056100147803', '0.6495393162425',\n",
       "        '0.9069321314998'],\n",
       "       ...,\n",
       "       ['01', '일', '1', ..., '0.9430450621433', '0.7002586875737',\n",
       "        '0.9440567266943'],\n",
       "       ['01', '일', '1', ..., '0.8434943001861', '0.6905441496784',\n",
       "        '0.8458992543728'],\n",
       "       ['01', '일', '1', ..., '0.9500246340687', '0.6922843873194',\n",
       "        '0.9509108336500']], dtype='<U15')"
      ]
     },
     "execution_count": 252,
     "metadata": {},
     "output_type": "execute_result"
    }
   ],
   "source": [
    "traffic1"
   ]
  },
  {
   "cell_type": "code",
   "execution_count": 253,
   "metadata": {},
   "outputs": [
    {
     "data": {
      "text/plain": [
       "(25037, 24)"
      ]
     },
     "execution_count": 253,
     "metadata": {},
     "output_type": "execute_result"
    }
   ],
   "source": [
    "traffic1.shape"
   ]
  },
  {
   "cell_type": "code",
   "execution_count": 254,
   "metadata": {
    "collapsed": true
   },
   "outputs": [],
   "source": [
    "#category형 데이터만 true, 수치형은 false \n",
    "column_mask =[]\n",
    "for i in range(traffic1.shape[1]):\n",
    "    if(i==2 or i == 3 or i ==4 or i==5 or i==6 or i==20 or i==21 or i ==22 or i==23\n",
    "      ):\n",
    "        column_mask.append(False)\n",
    "    else:\n",
    "        column_mask.append(True)"
   ]
  },
  {
   "cell_type": "code",
   "execution_count": 255,
   "metadata": {},
   "outputs": [
    {
     "data": {
      "text/plain": [
       "[True,\n",
       " True,\n",
       " False,\n",
       " False,\n",
       " False,\n",
       " False,\n",
       " False,\n",
       " True,\n",
       " True,\n",
       " True,\n",
       " True,\n",
       " True,\n",
       " True,\n",
       " True,\n",
       " True,\n",
       " True,\n",
       " True,\n",
       " True,\n",
       " True,\n",
       " True,\n",
       " False,\n",
       " False,\n",
       " False,\n",
       " False]"
      ]
     },
     "execution_count": 255,
     "metadata": {},
     "output_type": "execute_result"
    }
   ],
   "source": [
    "column_mask"
   ]
  },
  {
   "cell_type": "code",
   "execution_count": 256,
   "metadata": {
    "collapsed": true
   },
   "outputs": [],
   "source": [
    "#수치형 데이터들 모아놓기\n",
    "not_onehot=pd.DataFrame(traffic1[:,[not i for i in column_mask]])"
   ]
  },
  {
   "cell_type": "code",
   "execution_count": 257,
   "metadata": {
    "collapsed": true
   },
   "outputs": [],
   "source": [
    "#only 카테고리형 데이터\n",
    "make_onehot= traffic1[:, column_mask]"
   ]
  },
  {
   "cell_type": "code",
   "execution_count": 258,
   "metadata": {},
   "outputs": [
    {
     "data": {
      "text/plain": [
       "array([['06', '금', '경기', ..., '승용차', '보행자', '보행자'],\n",
       "       ['06', '금', '전남', ..., '승용차', '승용차', '승용차'],\n",
       "       ['06', '금', '충남', ..., '승용차', '보행자', '보행자'],\n",
       "       ...,\n",
       "       ['01', '일', '서울', ..., '중형', '보행자', '보행자'],\n",
       "       ['01', '일', '전북', ..., '중형', '승용차', '소형'],\n",
       "       ['01', '일', '서울', ..., '중형', '보행자', '보행자']], dtype='<U15')"
      ]
     },
     "execution_count": 258,
     "metadata": {},
     "output_type": "execute_result"
    }
   ],
   "source": [
    "make_onehot"
   ]
  },
  {
   "cell_type": "code",
   "execution_count": 259,
   "metadata": {
    "collapsed": true
   },
   "outputs": [],
   "source": [
    "pdData = pd.DataFrame(make_onehot)"
   ]
  },
  {
   "cell_type": "code",
   "execution_count": 260,
   "metadata": {
    "collapsed": true
   },
   "outputs": [],
   "source": [
    "df = pd.DataFrame()\n",
    "for i in range(len(pdData.columns)):\n",
    "    one_hot = pd.get_dummies(pdData.iloc[:, i])\n",
    "    df=pd.concat([df, one_hot], axis =1)"
   ]
  },
  {
   "cell_type": "code",
   "execution_count": 261,
   "metadata": {},
   "outputs": [
    {
     "data": {
      "text/plain": [
       "(25037, 399)"
      ]
     },
     "execution_count": 261,
     "metadata": {},
     "output_type": "execute_result"
    }
   ],
   "source": [
    "df.shape"
   ]
  },
  {
   "cell_type": "code",
   "execution_count": 262,
   "metadata": {
    "collapsed": true
   },
   "outputs": [],
   "source": [
    "#one-hot 된 카테고리형 데이터 + 일반 수치형 데이터\n",
    "df = pd.concat([df, not_onehot], axis = 1)"
   ]
  },
  {
   "cell_type": "code",
   "execution_count": 263,
   "metadata": {},
   "outputs": [
    {
     "data": {
      "text/plain": [
       "(25037, 408)"
      ]
     },
     "execution_count": 263,
     "metadata": {},
     "output_type": "execute_result"
    }
   ],
   "source": [
    "df.shape"
   ]
  },
  {
   "cell_type": "code",
   "execution_count": 264,
   "metadata": {
    "collapsed": true
   },
   "outputs": [],
   "source": [
    "# make pandas df as ndarray\n",
    "x_data = df.as_matrix()"
   ]
  },
  {
   "cell_type": "code",
   "execution_count": 265,
   "metadata": {
    "collapsed": true
   },
   "outputs": [],
   "source": [
    "# one_hot = pd.get_dummies(pdData.iloc[:, i])\n",
    "y_df = pd.DataFrame(y_data)\n",
    "y_onehot = pd.get_dummies(y_df)"
   ]
  },
  {
   "cell_type": "code",
   "execution_count": 266,
   "metadata": {
    "collapsed": true
   },
   "outputs": [],
   "source": [
    "y_data = y_onehot.as_matrix()"
   ]
  },
  {
   "cell_type": "code",
   "execution_count": 267,
   "metadata": {},
   "outputs": [
    {
     "data": {
      "text/plain": [
       "(25037, 2)"
      ]
     },
     "execution_count": 267,
     "metadata": {},
     "output_type": "execute_result"
    }
   ],
   "source": [
    "y_data.shape"
   ]
  },
  {
   "cell_type": "code",
   "execution_count": 268,
   "metadata": {},
   "outputs": [
    {
     "data": {
      "text/plain": [
       "(25037, 408)"
      ]
     },
     "execution_count": 268,
     "metadata": {},
     "output_type": "execute_result"
    }
   ],
   "source": [
    "x_data.shape"
   ]
  },
  {
   "cell_type": "markdown",
   "metadata": {},
   "source": [
    "### Randomly Extract Test, Validation, Train Data"
   ]
  },
  {
   "cell_type": "code",
   "execution_count": 269,
   "metadata": {
    "collapsed": true
   },
   "outputs": [],
   "source": [
    "train_num = int(len(x_data)*0.6)\n",
    "validation_num = int((len(x_data)-train_num)*0.5)\n",
    "test_num = len(x_data)-train_num-validation_num\n",
    "\n",
    "train_index = random.sample(range(0, len(x_data)), train_num)\n",
    "validation_index = random.sample(range(0 , len(x_data)- train_num), validation_num)"
   ]
  },
  {
   "cell_type": "code",
   "execution_count": 270,
   "metadata": {},
   "outputs": [],
   "source": [
    "x_train= x_data[train_index, :]\n",
    "y_train = y_data[train_index, :]\n",
    "entire_list = [i for i in range(len(x_data))]\n",
    "for i in train_index:\n",
    "    entire_list.remove(i)"
   ]
  },
  {
   "cell_type": "code",
   "execution_count": 271,
   "metadata": {
    "collapsed": true
   },
   "outputs": [],
   "source": [
    "x_test_validation = x_data[entire_list, :]\n",
    "y_test_validation = y_data[entire_list, :]"
   ]
  },
  {
   "cell_type": "code",
   "execution_count": 272,
   "metadata": {
    "collapsed": true
   },
   "outputs": [],
   "source": [
    "x_validation= x_test_validation[validation_index, :]\n",
    "y_validation=y_test_validation[validation_index, :]\n",
    "validation_list = [i for i in range(len(x_data)-train_num)]\n",
    "for i in validation_index:\n",
    "    validation_list.remove(i)    "
   ]
  },
  {
   "cell_type": "code",
   "execution_count": 306,
   "metadata": {
    "collapsed": true
   },
   "outputs": [],
   "source": [
    "x_test=x_test_validation[validation_list, :]\n",
    "y_test= y_test_validation[validation_list, :]"
   ]
  },
  {
   "cell_type": "code",
   "execution_count": 307,
   "metadata": {},
   "outputs": [
    {
     "data": {
      "text/plain": [
       "2"
      ]
     },
     "execution_count": 307,
     "metadata": {},
     "output_type": "execute_result"
    }
   ],
   "source": [
    "x_train.shape[1]\n",
    "y_train.shape[1]"
   ]
  },
  {
   "cell_type": "markdown",
   "metadata": {},
   "source": [
    "### 여기부터 TensorFlow\n",
    "\n",
    "주 야간 예측"
   ]
  },
  {
   "cell_type": "code",
   "execution_count": 276,
   "metadata": {
    "collapsed": true
   },
   "outputs": [],
   "source": [
    "# parameters\n",
    "learning_rate = 0.001"
   ]
  },
  {
   "cell_type": "code",
   "execution_count": 285,
   "metadata": {},
   "outputs": [
    {
     "data": {
      "text/plain": [
       "<tensorflow.python.framework.ops.Graph at 0x146d4a080>"
      ]
     },
     "execution_count": 285,
     "metadata": {},
     "output_type": "execute_result"
    }
   ],
   "source": [
    "tf.reset_default_graph()\n",
    "tf.get_default_graph()\n"
   ]
  },
  {
   "cell_type": "code",
   "execution_count": 290,
   "metadata": {},
   "outputs": [
    {
     "data": {
      "text/plain": [
       "2"
      ]
     },
     "execution_count": 290,
     "metadata": {},
     "output_type": "execute_result"
    }
   ],
   "source": [
    "x_train.shape[1]\n",
    "y_train.shape[1]"
   ]
  },
  {
   "cell_type": "code",
   "execution_count": 315,
   "metadata": {},
   "outputs": [
    {
     "name": "stdout",
     "output_type": "stream",
     "text": [
      "0 Cost:  1.9960903\n",
      "100 Cost:  0.5413009\n",
      "200 Cost:  0.20260234\n",
      "300 Cost:  0.18955988\n",
      "400 Cost:  0.01644826\n",
      "500 Cost:  0.0034590878\n",
      "600 Cost:  0.0021510131\n",
      "700 Cost:  0.001840065\n",
      "800 Cost:  0.0017227095\n",
      "900 Cost:  0.0016899531\n",
      "Accuracy:  0.5954473\n"
     ]
    }
   ],
   "source": [
    "with tf.Graph().as_default():\n",
    "    X = tf.placeholder(tf.float32, [None, x_train.shape[1]], name=\"input_x_placeholder\")\n",
    "    Y = tf.placeholder(tf.float32, [None, y_train.shape[1]], name=\"input_y_placeholder\")\n",
    "    # weights & bias for nn layers\n",
    "    W1 = tf.get_variable(\"W1\", shape=[x_train.shape[1], 500],\n",
    "                         initializer=tf.contrib.layers.xavier_initializer())\n",
    "    b1 = tf.Variable(tf.random_normal([500]))\n",
    "    L1 = tf.nn.relu(tf.matmul(X, W1) + b1)\n",
    "\n",
    "    W2 = tf.get_variable(\"W2\", shape=[500, 500],\n",
    "                         initializer=tf.contrib.layers.xavier_initializer())\n",
    "    b2 = tf.Variable(tf.random_normal([500]))\n",
    "    L2 = tf.nn.relu(tf.matmul(L1, W2) + b2)\n",
    "\n",
    "    W3 = tf.get_variable(\"W3\", shape=[500, 500],\n",
    "                         initializer=tf.contrib.layers.xavier_initializer())\n",
    "    b3 = tf.Variable(tf.random_normal([500]))\n",
    "    L3 = tf.nn.relu(tf.matmul(L2, W3) + b3)\n",
    "\n",
    "    W4 = tf.get_variable(\"W4\", shape=[500, 500],\n",
    "                         initializer=tf.contrib.layers.xavier_initializer())\n",
    "    b4 = tf.Variable(tf.random_normal([500]))\n",
    "    L4 = tf.nn.relu(tf.matmul(L3, W4) + b4)\n",
    "\n",
    "    W5 = tf.get_variable(\"W5\", shape=[500, y_train.shape[1]],\n",
    "                         initializer=tf.contrib.layers.xavier_initializer())\n",
    "    b5 = tf.Variable(tf.random_normal([y_train.shape[1]]))\n",
    "    hypothesis = tf.matmul(L4, W5) + b5\n",
    "\n",
    "    \n",
    "    cost = tf.reduce_mean(tf.nn.softmax_cross_entropy_with_logits(\n",
    "    logits=hypothesis, labels=Y))\n",
    "    optimizer = tf.train.AdamOptimizer(learning_rate=learning_rate)\n",
    "    train = optimizer.minimize(cost)\n",
    "    \n",
    "    is_correct = tf.equal(tf.arg_max(hypothesis, 1), tf.arg_max(Y, 1))\n",
    "    accuracy = tf.reduce_mean(tf.cast(is_correct, tf.float32))\n",
    "\n",
    "    sess = tf.Session()\n",
    "    sess.run(tf.global_variables_initializer())\n",
    "    \n",
    "    for step in range(1000):\n",
    "        cost_val, _ = sess.run(\n",
    "            [cost, train],\n",
    "            feed_dict={X: x_train, Y: y_train}\n",
    "        )\n",
    "        if step % 100 == 0:\n",
    "            print(step, \"Cost: \", cost_val)\n",
    "    print(\"Accuracy: \", accuracy.eval(session=sess, feed_dict={\n",
    "          X: x_test, Y: y_test}))\n",
    "\n",
    "    "
   ]
  },
  {
   "cell_type": "code",
   "execution_count": null,
   "metadata": {
    "collapsed": true
   },
   "outputs": [],
   "source": []
  }
 ],
 "metadata": {
  "kernelspec": {
   "display_name": "Python 3",
   "language": "python",
   "name": "python3"
  },
  "language_info": {
   "codemirror_mode": {
    "name": "ipython",
    "version": 3
   },
   "file_extension": ".py",
   "mimetype": "text/x-python",
   "name": "python",
   "nbconvert_exporter": "python",
   "pygments_lexer": "ipython3",
   "version": "3.6.1"
  }
 },
 "nbformat": 4,
 "nbformat_minor": 2
}
