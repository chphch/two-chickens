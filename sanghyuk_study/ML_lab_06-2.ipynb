{
 "cells": [
  {
   "cell_type": "markdown",
   "metadata": {},
   "source": [
    "# Fancy Softmax Classifier"
   ]
  },
  {
   "cell_type": "code",
   "execution_count": null,
   "metadata": {
    "collapsed": true
   },
   "outputs": [],
   "source": [
    "# 기존방법\n",
    "cost = tf.reduce_mean(-tf.reduce_sum(Y*tf.log(hypothesis), axis = 1))"
   ]
  },
  {
   "cell_type": "code",
   "execution_count": 1,
   "metadata": {
    "collapsed": true
   },
   "outputs": [],
   "source": [
    "# 위 방법은 내가 직접 수식 써야되지만, softmax_cross_entropy_with_logits는\n",
    "# logit(score)값만 주면 됨. "
   ]
  },
  {
   "cell_type": "markdown",
   "metadata": {},
   "source": [
    "# Animal Classification\n",
    "\n",
    "y는 0~6까지의 숫자. \n",
    "one-hot이 필요함\n",
    "ex) class 7개면 [0,0,0,0,1,0]\n",
    "one-hot은 랭크가 1이면, output은 한차원 더 크게 만들어줌. \n",
    "ex) y=[[0], [3]]이면 [[[1 000000]. [[]] 이런식으로 3차원으로 만들어버림.\n",
    "reshape을 사용하면 됨. \n"
   ]
  },
  {
   "cell_type": "code",
   "execution_count": 5,
   "metadata": {},
   "outputs": [],
   "source": [
    "import numpy as np\n",
    "import tensorflow as tf"
   ]
  },
  {
   "cell_type": "code",
   "execution_count": 6,
   "metadata": {
    "collapsed": true
   },
   "outputs": [],
   "source": [
    "xy = np.loadtxt('data/data-04-zoo.csv', delimiter =',', dtype = np.float32)"
   ]
  },
  {
   "cell_type": "code",
   "execution_count": 7,
   "metadata": {
    "collapsed": true
   },
   "outputs": [],
   "source": [
    "x_data = xy[:, 0:-1]\n",
    "y_data = xy[:, [-1]]\n",
    "\n",
    "nb_classes=7 # Y데이터 보면 0~6까지 있음"
   ]
  },
  {
   "cell_type": "code",
   "execution_count": 8,
   "metadata": {},
   "outputs": [],
   "source": [
    "X = tf.placeholder(tf.float32, [None, 16])\n",
    "Y = tf.placeholder(tf.int32, [None, 1])"
   ]
  },
  {
   "cell_type": "code",
   "execution_count": 12,
   "metadata": {},
   "outputs": [
    {
     "data": {
      "text/plain": [
       "dtype('float32')"
      ]
     },
     "execution_count": 12,
     "metadata": {},
     "output_type": "execute_result"
    }
   ],
   "source": [
    "x_data.dtype"
   ]
  },
  {
   "cell_type": "code",
   "execution_count": null,
   "metadata": {
    "collapsed": true
   },
   "outputs": [],
   "source": [
    "Y_one_hot = tf.one_hot(Y, nb_classes)"
   ]
  },
  {
   "cell_type": "code",
   "execution_count": 15,
   "metadata": {},
   "outputs": [
    {
     "data": {
      "text/plain": [
       "<tf.Tensor 'one_hot:0' shape=(?, 1, 7) dtype=float32>"
      ]
     },
     "execution_count": 15,
     "metadata": {},
     "output_type": "execute_result"
    }
   ],
   "source": [
    "Y_one_hot # shape가 (?, 1, 7)"
   ]
  },
  {
   "cell_type": "code",
   "execution_count": 16,
   "metadata": {
    "collapsed": true
   },
   "outputs": [],
   "source": [
    "Y_one_hot = tf.reshape(Y_one_hot, [-1, nb_classes])"
   ]
  },
  {
   "cell_type": "code",
   "execution_count": 20,
   "metadata": {
    "collapsed": true
   },
   "outputs": [],
   "source": [
    "W = tf.Variable(tf.random_normal([16, nb_classes]), name='weight')\n",
    "b = tf.Variable(tf.random_normal([nb_classes]), name='bias')"
   ]
  },
  {
   "cell_type": "code",
   "execution_count": 21,
   "metadata": {
    "collapsed": true
   },
   "outputs": [],
   "source": [
    "logits = tf.matmul(X, W)+b\n",
    "hypothesis = tf.nn.softmax(logits)"
   ]
  },
  {
   "cell_type": "code",
   "execution_count": 25,
   "metadata": {
    "collapsed": true
   },
   "outputs": [],
   "source": [
    "cost_i = tf.nn.softmax_cross_entropy_with_logits(logits = logits, labels=Y_one_hot)"
   ]
  },
  {
   "cell_type": "code",
   "execution_count": 26,
   "metadata": {
    "collapsed": true
   },
   "outputs": [],
   "source": [
    "cost = tf.reduce_mean(cost_i)\n",
    "optimizer = tf.train.GradientDescentOptimizer(learning_rate=0.1).minimize(cost)"
   ]
  },
  {
   "cell_type": "code",
   "execution_count": 31,
   "metadata": {
    "collapsed": true
   },
   "outputs": [],
   "source": [
    "prediction  = tf.argmax(hypothesis, 1)\n",
    "#argmax취해서 제일 큰놈의 인덱스 받아(0~6)"
   ]
  },
  {
   "cell_type": "code",
   "execution_count": 32,
   "metadata": {
    "collapsed": true
   },
   "outputs": [],
   "source": [
    "correct_prediction = tf.equal(prediction, tf.argmax(Y_one_hot, 1)) #예측과 비교\n",
    "\n",
    "#맞게 예측한애들 모아서, 평균을 내면 정확도가 됨. \n",
    "accuracy = tf.reduce_mean(tf.cast(correct_prediction, tf.float32))"
   ]
  },
  {
   "cell_type": "code",
   "execution_count": 33,
   "metadata": {},
   "outputs": [
    {
     "name": "stdout",
     "output_type": "stream",
     "text": [
      "Step:     0\tLoss: 2.405\tAcc: 29.70%\n",
      "Step:   100\tLoss: 0.645\tAcc: 79.21%\n",
      "Step:   200\tLoss: 0.425\tAcc: 85.15%\n",
      "Step:   300\tLoss: 0.319\tAcc: 93.07%\n",
      "Step:   400\tLoss: 0.257\tAcc: 93.07%\n",
      "Step:   500\tLoss: 0.215\tAcc: 93.07%\n",
      "Step:   600\tLoss: 0.185\tAcc: 94.06%\n",
      "Step:   700\tLoss: 0.161\tAcc: 96.04%\n",
      "Step:   800\tLoss: 0.143\tAcc: 98.02%\n",
      "Step:   900\tLoss: 0.128\tAcc: 98.02%\n",
      "Step:  1000\tLoss: 0.115\tAcc: 98.02%\n",
      "Step:  1100\tLoss: 0.105\tAcc: 99.01%\n",
      "Step:  1200\tLoss: 0.096\tAcc: 99.01%\n",
      "Step:  1300\tLoss: 0.089\tAcc: 100.00%\n",
      "Step:  1400\tLoss: 0.083\tAcc: 100.00%\n",
      "Step:  1500\tLoss: 0.077\tAcc: 100.00%\n",
      "Step:  1600\tLoss: 0.072\tAcc: 100.00%\n",
      "Step:  1700\tLoss: 0.068\tAcc: 100.00%\n",
      "Step:  1800\tLoss: 0.064\tAcc: 100.00%\n",
      "Step:  1900\tLoss: 0.060\tAcc: 100.00%\n",
      "[True] prediction: 0 True Y: 0\n",
      "[True] prediction: 0 True Y: 0\n",
      "[True] prediction: 3 True Y: 3\n",
      "[True] prediction: 0 True Y: 0\n",
      "[True] prediction: 0 True Y: 0\n",
      "[True] prediction: 0 True Y: 0\n",
      "[True] prediction: 0 True Y: 0\n",
      "[True] prediction: 3 True Y: 3\n",
      "[True] prediction: 3 True Y: 3\n",
      "[True] prediction: 0 True Y: 0\n",
      "[True] prediction: 0 True Y: 0\n",
      "[True] prediction: 1 True Y: 1\n",
      "[True] prediction: 3 True Y: 3\n",
      "[True] prediction: 6 True Y: 6\n",
      "[True] prediction: 6 True Y: 6\n",
      "[True] prediction: 6 True Y: 6\n",
      "[True] prediction: 1 True Y: 1\n",
      "[True] prediction: 0 True Y: 0\n",
      "[True] prediction: 3 True Y: 3\n",
      "[True] prediction: 0 True Y: 0\n",
      "[True] prediction: 1 True Y: 1\n",
      "[True] prediction: 1 True Y: 1\n",
      "[True] prediction: 0 True Y: 0\n",
      "[True] prediction: 1 True Y: 1\n",
      "[True] prediction: 5 True Y: 5\n",
      "[True] prediction: 4 True Y: 4\n",
      "[True] prediction: 4 True Y: 4\n",
      "[True] prediction: 0 True Y: 0\n",
      "[True] prediction: 0 True Y: 0\n",
      "[True] prediction: 0 True Y: 0\n",
      "[True] prediction: 5 True Y: 5\n",
      "[True] prediction: 0 True Y: 0\n",
      "[True] prediction: 0 True Y: 0\n",
      "[True] prediction: 1 True Y: 1\n",
      "[True] prediction: 3 True Y: 3\n",
      "[True] prediction: 0 True Y: 0\n",
      "[True] prediction: 0 True Y: 0\n",
      "[True] prediction: 1 True Y: 1\n",
      "[True] prediction: 3 True Y: 3\n",
      "[True] prediction: 5 True Y: 5\n",
      "[True] prediction: 5 True Y: 5\n",
      "[True] prediction: 1 True Y: 1\n",
      "[True] prediction: 5 True Y: 5\n",
      "[True] prediction: 1 True Y: 1\n",
      "[True] prediction: 0 True Y: 0\n",
      "[True] prediction: 0 True Y: 0\n",
      "[True] prediction: 6 True Y: 6\n",
      "[True] prediction: 0 True Y: 0\n",
      "[True] prediction: 0 True Y: 0\n",
      "[True] prediction: 0 True Y: 0\n",
      "[True] prediction: 0 True Y: 0\n",
      "[True] prediction: 5 True Y: 5\n",
      "[True] prediction: 4 True Y: 4\n",
      "[True] prediction: 6 True Y: 6\n",
      "[True] prediction: 0 True Y: 0\n",
      "[True] prediction: 0 True Y: 0\n",
      "[True] prediction: 1 True Y: 1\n",
      "[True] prediction: 1 True Y: 1\n",
      "[True] prediction: 1 True Y: 1\n",
      "[True] prediction: 1 True Y: 1\n",
      "[True] prediction: 3 True Y: 3\n",
      "[True] prediction: 3 True Y: 3\n",
      "[True] prediction: 2 True Y: 2\n",
      "[True] prediction: 0 True Y: 0\n",
      "[True] prediction: 0 True Y: 0\n",
      "[True] prediction: 0 True Y: 0\n",
      "[True] prediction: 0 True Y: 0\n",
      "[True] prediction: 0 True Y: 0\n",
      "[True] prediction: 0 True Y: 0\n",
      "[True] prediction: 0 True Y: 0\n",
      "[True] prediction: 0 True Y: 0\n",
      "[True] prediction: 1 True Y: 1\n",
      "[True] prediction: 6 True Y: 6\n",
      "[True] prediction: 3 True Y: 3\n",
      "[True] prediction: 0 True Y: 0\n",
      "[True] prediction: 0 True Y: 0\n",
      "[True] prediction: 2 True Y: 2\n",
      "[True] prediction: 6 True Y: 6\n",
      "[True] prediction: 1 True Y: 1\n",
      "[True] prediction: 1 True Y: 1\n",
      "[True] prediction: 2 True Y: 2\n",
      "[True] prediction: 6 True Y: 6\n",
      "[True] prediction: 3 True Y: 3\n",
      "[True] prediction: 1 True Y: 1\n",
      "[True] prediction: 0 True Y: 0\n",
      "[True] prediction: 6 True Y: 6\n",
      "[True] prediction: 3 True Y: 3\n",
      "[True] prediction: 1 True Y: 1\n",
      "[True] prediction: 5 True Y: 5\n",
      "[True] prediction: 4 True Y: 4\n",
      "[True] prediction: 2 True Y: 2\n",
      "[True] prediction: 2 True Y: 2\n",
      "[True] prediction: 3 True Y: 3\n",
      "[True] prediction: 0 True Y: 0\n",
      "[True] prediction: 0 True Y: 0\n",
      "[True] prediction: 1 True Y: 1\n",
      "[True] prediction: 0 True Y: 0\n",
      "[True] prediction: 5 True Y: 5\n",
      "[True] prediction: 0 True Y: 0\n",
      "[True] prediction: 6 True Y: 6\n",
      "[True] prediction: 1 True Y: 1\n"
     ]
    }
   ],
   "source": [
    "with tf.Session() as sess:\n",
    "    sess.run(tf.global_variables_initializer())\n",
    "    for step in range(2000):\n",
    "        sess.run(optimizer, feed_dict={X:x_data, Y:y_data})\n",
    "        if step % 100 == 0:\n",
    "            loss, acc = sess.run([cost, accuracy], feed_dict ={\n",
    "                X:x_data, Y: y_data\n",
    "            })\n",
    "            print(\"Step: {:5}\\tLoss: {:.3f}\\tAcc: {:.2%}\".format(step, loss, acc))\n",
    "\n",
    "    #x 만던져주고, 잘 predict했는지 출력 해 보는 것.     \n",
    "    #pred의 형태는 -> [0, 5, 6, 1, 2, 이렇게 되 있겠지?]\n",
    "    pred = sess.run(prediction, feed_dict={X:x_data})\n",
    "    \n",
    "    #y데이터를 [[1], [0]]이렇게 되있는 걸 평평하게 해줌, [1, 0]\n",
    "    for p, y in zip(pred, y_data.flatten()):\n",
    "        print(\"[{}] prediction: {} True Y: {}\".format(p==int(y), p, int(y)))"
   ]
  },
  {
   "cell_type": "code",
   "execution_count": null,
   "metadata": {
    "collapsed": true
   },
   "outputs": [],
   "source": []
  }
 ],
 "metadata": {
  "kernelspec": {
   "display_name": "Python 3",
   "language": "python",
   "name": "python3"
  },
  "language_info": {
   "codemirror_mode": {
    "name": "ipython",
    "version": 3
   },
   "file_extension": ".py",
   "mimetype": "text/x-python",
   "name": "python",
   "nbconvert_exporter": "python",
   "pygments_lexer": "ipython3",
   "version": "3.6.1"
  }
 },
 "nbformat": 4,
 "nbformat_minor": 2
}
