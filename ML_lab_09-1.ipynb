{
 "cells": [
  {
   "cell_type": "markdown",
   "metadata": {},
   "source": [
    "# NN for XOR"
   ]
  },
  {
   "cell_type": "markdown",
   "metadata": {},
   "source": [
    "## Logistic으로 먼저 돌려봄"
   ]
  },
  {
   "cell_type": "code",
   "execution_count": 2,
   "metadata": {
    "collapsed": true
   },
   "outputs": [],
   "source": [
    "import numpy as np\n",
    "import tensorflow as tf"
   ]
  },
  {
   "cell_type": "code",
   "execution_count": 8,
   "metadata": {
    "collapsed": true
   },
   "outputs": [],
   "source": [
    "x_data = np.array([[0,0], [0,1], [1,0], [1,1]], dtype=np.float32)\n",
    "y_data = np.array([[0], [1], [1], [0]], dtype= np.float32)"
   ]
  },
  {
   "cell_type": "code",
   "execution_count": 10,
   "metadata": {
    "collapsed": true
   },
   "outputs": [],
   "source": [
    "X = tf.placeholder(tf.float32)\n",
    "Y = tf.placeholder(tf.float32)\n",
    "#W의 row는 in feature, column은 out y\n",
    "W = tf.Variable(tf.random_normal([2, 1]), name= 'Weight')\n",
    "b = tf.Variable(tf.random_normal([1]), name= 'bias')"
   ]
  },
  {
   "cell_type": "code",
   "execution_count": 11,
   "metadata": {
    "collapsed": true
   },
   "outputs": [],
   "source": [
    "hypothesis = tf.sigmoid(tf.matmul(X, W)+b)"
   ]
  },
  {
   "cell_type": "code",
   "execution_count": 14,
   "metadata": {
    "collapsed": true
   },
   "outputs": [],
   "source": [
    "cost = -tf.reduce_mean(Y*tf.log(hypothesis)+(1-Y)*tf.log(1-hypothesis))\n",
    "train=tf.train.GradientDescentOptimizer(learning_rate=0.1).minimize(cost)"
   ]
  },
  {
   "cell_type": "code",
   "execution_count": 16,
   "metadata": {
    "collapsed": true
   },
   "outputs": [],
   "source": [
    "predicted= tf.cast(hypothesis >0.5, dtype= tf.float32)\n",
    "accuracy = tf.reduce_mean(tf.cast(tf.equal(predicted, Y), dtype=tf.float32))"
   ]
  },
  {
   "cell_type": "code",
   "execution_count": 1,
   "metadata": {},
   "outputs": [
    {
     "ename": "NameError",
     "evalue": "name 'tf' is not defined",
     "output_type": "error",
     "traceback": [
      "\u001b[0;31m---------------------------------------------------------------------------\u001b[0m",
      "\u001b[0;31mNameError\u001b[0m                                 Traceback (most recent call last)",
      "\u001b[0;32m<ipython-input-1-514181c052d2>\u001b[0m in \u001b[0;36m<module>\u001b[0;34m()\u001b[0m\n\u001b[1;32m      1\u001b[0m \u001b[0;31m#Launch Graph!\u001b[0m\u001b[0;34m\u001b[0m\u001b[0;34m\u001b[0m\u001b[0m\n\u001b[1;32m      2\u001b[0m \u001b[0;34m\u001b[0m\u001b[0m\n\u001b[0;32m----> 3\u001b[0;31m \u001b[0;32mwith\u001b[0m \u001b[0mtf\u001b[0m\u001b[0;34m.\u001b[0m\u001b[0mSession\u001b[0m\u001b[0;34m(\u001b[0m\u001b[0;34m)\u001b[0m \u001b[0;32mas\u001b[0m \u001b[0msess\u001b[0m\u001b[0;34m:\u001b[0m\u001b[0;34m\u001b[0m\u001b[0m\n\u001b[0m\u001b[1;32m      4\u001b[0m     \u001b[0msess\u001b[0m\u001b[0;34m.\u001b[0m\u001b[0mrun\u001b[0m\u001b[0;34m(\u001b[0m\u001b[0mtf\u001b[0m\u001b[0;34m.\u001b[0m\u001b[0mglobal_variables_initializer\u001b[0m\u001b[0;34m(\u001b[0m\u001b[0;34m)\u001b[0m\u001b[0;34m)\u001b[0m\u001b[0;34m\u001b[0m\u001b[0m\n\u001b[1;32m      5\u001b[0m \u001b[0;34m\u001b[0m\u001b[0m\n",
      "\u001b[0;31mNameError\u001b[0m: name 'tf' is not defined"
     ]
    }
   ],
   "source": [
    "#Launch Graph!\n",
    "\n",
    "with tf.Session() as sess:\n",
    "    sess.run(tf.global_variables_initializer())\n",
    "    \n",
    "    for step in range(10001):\n",
    "        sess.run(train, feed_dict= {X:x_data, Y:y_data})\n",
    "        if step%100 ==0:\n",
    "            print(step, sess.run(cost, feed_dict={X: x_data, Y:y_data}), sess.run(W))\n",
    "            \n",
    "    h, c, a = sess.run([hypothesis, predicted, accuracy], feed_dict={X: x_data, Y:y_data})\n",
    "    print(\"\\nHypothesis: \", h, \"\\nCorrect \", c, \"\\nAccuracy: \", a)"
   ]
  },
  {
   "cell_type": "markdown",
   "metadata": {},
   "source": [
    "모델은 문제 없는데<br>\n",
    "정확도가 50%임"
   ]
  },
  {
   "cell_type": "markdown",
   "metadata": {},
   "source": [
    "## Neural Network"
   ]
  },
  {
   "cell_type": "code",
   "execution_count": 27,
   "metadata": {
    "collapsed": true
   },
   "outputs": [],
   "source": [
    "x_data = np.array([[0,0], [0,1], [1,0], [1,1]], dtype=np.float32)\n",
    "y_data = np.array([[0], [1], [1], [0]], dtype= np.float32)"
   ]
  },
  {
   "cell_type": "code",
   "execution_count": 56,
   "metadata": {
    "collapsed": true
   },
   "outputs": [],
   "source": [
    "X = tf.placeholder(tf.float32)\n",
    "Y = tf.placeholder(tf.float32)\n",
    "#Node 2개 니깐 2x2 -> out도 2 \n",
    "W1 = tf.Variable(tf.random_normal([2, 10]), name= 'weight1')\n",
    "b1 = tf.Variable(tf.random_normal([10]), name= 'bias1')\n",
    "layer1 = tf.sigmoid(tf.matmul(X, W1)+ b1)\n",
    "\n",
    "W2 = tf.Variable(tf.random_normal([10, 1]), name= 'weight2')\n",
    "b2 = tf.Variable(tf.random_normal([1]), name= 'bias2')"
   ]
  },
  {
   "cell_type": "code",
   "execution_count": 57,
   "metadata": {
    "collapsed": true
   },
   "outputs": [],
   "source": [
    "hypothesis = tf.sigmoid(tf.matmul(layer1, W2) + b2)"
   ]
  },
  {
   "cell_type": "code",
   "execution_count": 58,
   "metadata": {
    "collapsed": true
   },
   "outputs": [],
   "source": [
    "cost = -tf.reduce_mean(Y*tf.log(hypothesis)+(1-Y)*tf.log(1-hypothesis))\n",
    "train=tf.train.GradientDescentOptimizer(learning_rate=0.1).minimize(cost)"
   ]
  },
  {
   "cell_type": "code",
   "execution_count": 59,
   "metadata": {
    "collapsed": true
   },
   "outputs": [],
   "source": [
    "predicted= tf.cast(hypothesis >0.5, dtype= tf.float32)\n",
    "accuracy = tf.reduce_mean(tf.cast(tf.equal(predicted, Y), dtype=tf.float32))"
   ]
  },
  {
   "cell_type": "code",
   "execution_count": 60,
   "metadata": {},
   "outputs": [
    {
     "name": "stdout",
     "output_type": "stream",
     "text": [
      "0 1.019342 [[-0.18237078]\n",
      " [-0.00990503]]\n",
      "100 0.690237 [[-0.18237078]\n",
      " [-0.00990503]]\n",
      "200 0.68516237 [[-0.18237078]\n",
      " [-0.00990503]]\n",
      "300 0.6800378 [[-0.18237078]\n",
      " [-0.00990503]]\n",
      "400 0.6743525 [[-0.18237078]\n",
      " [-0.00990503]]\n",
      "500 0.6676036 [[-0.18237078]\n",
      " [-0.00990503]]\n",
      "600 0.65923595 [[-0.18237078]\n",
      " [-0.00990503]]\n",
      "700 0.64859295 [[-0.18237078]\n",
      " [-0.00990503]]\n",
      "800 0.6348781 [[-0.18237078]\n",
      " [-0.00990503]]\n",
      "900 0.6171447 [[-0.18237078]\n",
      " [-0.00990503]]\n",
      "1000 0.59434086 [[-0.18237078]\n",
      " [-0.00990503]]\n",
      "1100 0.5654463 [[-0.18237078]\n",
      " [-0.00990503]]\n",
      "1200 0.52973473 [[-0.18237078]\n",
      " [-0.00990503]]\n",
      "1300 0.48717895 [[-0.18237078]\n",
      " [-0.00990503]]\n",
      "1400 0.43890056 [[-0.18237078]\n",
      " [-0.00990503]]\n",
      "1500 0.38734227 [[-0.18237078]\n",
      " [-0.00990503]]\n",
      "1600 0.33581197 [[-0.18237078]\n",
      " [-0.00990503]]\n",
      "1700 0.28749645 [[-0.18237078]\n",
      " [-0.00990503]]\n",
      "1800 0.24457112 [[-0.18237078]\n",
      " [-0.00990503]]\n",
      "1900 0.20792183 [[-0.18237078]\n",
      " [-0.00990503]]\n",
      "2000 0.17741925 [[-0.18237078]\n",
      " [-0.00990503]]\n",
      "2100 0.15237485 [[-0.18237078]\n",
      " [-0.00990503]]\n",
      "2200 0.13191046 [[-0.18237078]\n",
      " [-0.00990503]]\n",
      "2300 0.11517039 [[-0.18237078]\n",
      " [-0.00990503]]\n",
      "2400 0.10141172 [[-0.18237078]\n",
      " [-0.00990503]]\n",
      "2500 0.09002608 [[-0.18237078]\n",
      " [-0.00990503]]\n",
      "2600 0.080529764 [[-0.18237078]\n",
      " [-0.00990503]]\n",
      "2700 0.07254377 [[-0.18237078]\n",
      " [-0.00990503]]\n",
      "2800 0.06577228 [[-0.18237078]\n",
      " [-0.00990503]]\n",
      "2900 0.059984565 [[-0.18237078]\n",
      " [-0.00990503]]\n",
      "3000 0.05499982 [[-0.18237078]\n",
      " [-0.00990503]]\n",
      "3100 0.05067587 [[-0.18237078]\n",
      " [-0.00990503]]\n",
      "3200 0.046899687 [[-0.18237078]\n",
      " [-0.00990503]]\n",
      "3300 0.043581095 [[-0.18237078]\n",
      " [-0.00990503]]\n",
      "3400 0.04064762 [[-0.18237078]\n",
      " [-0.00990503]]\n",
      "3500 0.03804034 [[-0.18237078]\n",
      " [-0.00990503]]\n",
      "3600 0.03571129 [[-0.18237078]\n",
      " [-0.00990503]]\n",
      "3700 0.03362093 [[-0.18237078]\n",
      " [-0.00990503]]\n",
      "3800 0.03173656 [[-0.18237078]\n",
      " [-0.00990503]]\n",
      "3900 0.03003095 [[-0.18237078]\n",
      " [-0.00990503]]\n",
      "4000 0.028481258 [[-0.18237078]\n",
      " [-0.00990503]]\n",
      "4100 0.027068224 [[-0.18237078]\n",
      " [-0.00990503]]\n",
      "4200 0.025775451 [[-0.18237078]\n",
      " [-0.00990503]]\n",
      "4300 0.02458905 [[-0.18237078]\n",
      " [-0.00990503]]\n",
      "4400 0.02349708 [[-0.18237078]\n",
      " [-0.00990503]]\n",
      "4500 0.022489179 [[-0.18237078]\n",
      " [-0.00990503]]\n",
      "4600 0.02155659 [[-0.18237078]\n",
      " [-0.00990503]]\n",
      "4700 0.020691497 [[-0.18237078]\n",
      " [-0.00990503]]\n",
      "4800 0.019887168 [[-0.18237078]\n",
      " [-0.00990503]]\n",
      "4900 0.01913773 [[-0.18237078]\n",
      " [-0.00990503]]\n",
      "5000 0.018437985 [[-0.18237078]\n",
      " [-0.00990503]]\n",
      "5100 0.017783385 [[-0.18237078]\n",
      " [-0.00990503]]\n",
      "5200 0.017169882 [[-0.18237078]\n",
      " [-0.00990503]]\n",
      "5300 0.016593868 [[-0.18237078]\n",
      " [-0.00990503]]\n",
      "5400 0.016052205 [[-0.18237078]\n",
      " [-0.00990503]]\n",
      "5500 0.01554196 [[-0.18237078]\n",
      " [-0.00990503]]\n",
      "5600 0.015060632 [[-0.18237078]\n",
      " [-0.00990503]]\n",
      "5700 0.014605943 [[-0.18237078]\n",
      " [-0.00990503]]\n",
      "5800 0.014175785 [[-0.18237078]\n",
      " [-0.00990503]]\n",
      "5900 0.013768356 [[-0.18237078]\n",
      " [-0.00990503]]\n",
      "6000 0.01338194 [[-0.18237078]\n",
      " [-0.00990503]]\n",
      "6100 0.013014969 [[-0.18237078]\n",
      " [-0.00990503]]\n",
      "6200 0.012666142 [[-0.18237078]\n",
      " [-0.00990503]]\n",
      "6300 0.012334153 [[-0.18237078]\n",
      " [-0.00990503]]\n",
      "6400 0.0120178405 [[-0.18237078]\n",
      " [-0.00990503]]\n",
      "6500 0.011716227 [[-0.18237078]\n",
      " [-0.00990503]]\n",
      "6600 0.011428301 [[-0.18237078]\n",
      " [-0.00990503]]\n",
      "6700 0.011153193 [[-0.18237078]\n",
      " [-0.00990503]]\n",
      "6800 0.01089008 [[-0.18237078]\n",
      " [-0.00990503]]\n",
      "6900 0.010638196 [[-0.18237078]\n",
      " [-0.00990503]]\n",
      "7000 0.010396948 [[-0.18237078]\n",
      " [-0.00990503]]\n",
      "7100 0.010165634 [[-0.18237078]\n",
      " [-0.00990503]]\n",
      "7200 0.009943705 [[-0.18237078]\n",
      " [-0.00990503]]\n",
      "7300 0.009730586 [[-0.18237078]\n",
      " [-0.00990503]]\n",
      "7400 0.009525832 [[-0.18237078]\n",
      " [-0.00990503]]\n",
      "7500 0.009328927 [[-0.18237078]\n",
      " [-0.00990503]]\n",
      "7600 0.009139445 [[-0.18237078]\n",
      " [-0.00990503]]\n",
      "7700 0.008956991 [[-0.18237078]\n",
      " [-0.00990503]]\n",
      "7800 0.008781216 [[-0.18237078]\n",
      " [-0.00990503]]\n",
      "7900 0.008611786 [[-0.18237078]\n",
      " [-0.00990503]]\n",
      "8000 0.008448351 [[-0.18237078]\n",
      " [-0.00990503]]\n",
      "8100 0.008290578 [[-0.18237078]\n",
      " [-0.00990503]]\n",
      "8200 0.008138208 [[-0.18237078]\n",
      " [-0.00990503]]\n",
      "8300 0.007990983 [[-0.18237078]\n",
      " [-0.00990503]]\n",
      "8400 0.007848678 [[-0.18237078]\n",
      " [-0.00990503]]\n",
      "8500 0.007711034 [[-0.18237078]\n",
      " [-0.00990503]]\n",
      "8600 0.0075778374 [[-0.18237078]\n",
      " [-0.00990503]]\n",
      "8700 0.007448833 [[-0.18237078]\n",
      " [-0.00990503]]\n",
      "8800 0.007323928 [[-0.18237078]\n",
      " [-0.00990503]]\n",
      "8900 0.007202852 [[-0.18237078]\n",
      " [-0.00990503]]\n",
      "9000 0.0070854984 [[-0.18237078]\n",
      " [-0.00990503]]\n",
      "9100 0.0069716386 [[-0.18237078]\n",
      " [-0.00990503]]\n",
      "9200 0.0068612136 [[-0.18237078]\n",
      " [-0.00990503]]\n",
      "9300 0.006754012 [[-0.18237078]\n",
      " [-0.00990503]]\n",
      "9400 0.0066498667 [[-0.18237078]\n",
      " [-0.00990503]]\n",
      "9500 0.0065487027 [[-0.18237078]\n",
      " [-0.00990503]]\n",
      "9600 0.0064503835 [[-0.18237078]\n",
      " [-0.00990503]]\n",
      "9700 0.0063548335 [[-0.18237078]\n",
      " [-0.00990503]]\n",
      "9800 0.0062618866 [[-0.18237078]\n",
      " [-0.00990503]]\n",
      "9900 0.006171483 [[-0.18237078]\n",
      " [-0.00990503]]\n",
      "10000 0.0060834563 [[-0.18237078]\n",
      " [-0.00990503]]\n",
      "\n",
      "Hypothesis:  [[0.00621972]\n",
      " [0.994402  ]\n",
      " [0.9931772 ]\n",
      " [0.00561885]] \n",
      "Correct  [[0.]\n",
      " [1.]\n",
      " [1.]\n",
      " [0.]] \n",
      "Accuracy:  1.0\n"
     ]
    }
   ],
   "source": [
    "#Launch Graph!\n",
    "\n",
    "with tf.Session() as sess:\n",
    "    sess.run(tf.global_variables_initializer())\n",
    "    \n",
    "    for step in range(10001):\n",
    "        sess.run(train, feed_dict= {X:x_data, Y:y_data})\n",
    "        if step%100 ==0:\n",
    "            print(step, sess.run(cost, feed_dict={X: x_data, Y:y_data}), sess.run(W))\n",
    "            \n",
    "    h, c, a = sess.run([hypothesis, predicted, accuracy], feed_dict={X: x_data, Y:y_data})\n",
    "    print(\"\\nHypothesis: \", h, \"\\nCorrect \", c, \"\\nAccuracy: \", a)"
   ]
  },
  {
   "cell_type": "markdown",
   "metadata": {},
   "source": [
    "### Layer의 갯수나 한 Layer의 Node의 갯수를 계속 연결해 볼 수 있음. "
   ]
  },
  {
   "cell_type": "code",
   "execution_count": null,
   "metadata": {
    "collapsed": true
   },
   "outputs": [],
   "source": []
  }
 ],
 "metadata": {
  "kernelspec": {
   "display_name": "Python 3",
   "language": "python",
   "name": "python3"
  },
  "language_info": {
   "codemirror_mode": {
    "name": "ipython",
    "version": 3
   },
   "file_extension": ".py",
   "mimetype": "text/x-python",
   "name": "python",
   "nbconvert_exporter": "python",
   "pygments_lexer": "ipython3",
   "version": "3.6.1"
  }
 },
 "nbformat": 4,
 "nbformat_minor": 2
}
