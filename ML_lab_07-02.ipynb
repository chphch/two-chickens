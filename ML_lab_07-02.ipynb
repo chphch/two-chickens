{
 "cells": [
  {
   "cell_type": "markdown",
   "metadata": {},
   "source": [
    "# 데이터 정리\n",
    "\n",
    "* 28 x 28 image -> 합치면 총 784개의 x feature\n",
    "* y 는 총 0~9까지의 숫자 중 예측, one-hot encoding 사용시 **10개**의 출력 \n",
    "* 파일 직접 import 하는 것이 아닌 tensorflow에서 이걸 쓰라고 라이브러리 만들어 놓은게 있음\n"
   ]
  },
  {
   "cell_type": "code",
   "execution_count": null,
   "metadata": {
    "collapsed": true
   },
   "outputs": [],
   "source": []
  },
  {
   "cell_type": "code",
   "execution_count": 1,
   "metadata": {},
   "outputs": [
    {
     "name": "stderr",
     "output_type": "stream",
     "text": [
      "/Users/sanghyuk/anaconda/lib/python3.6/site-packages/h5py/__init__.py:34: FutureWarning: Conversion of the second argument of issubdtype from `float` to `np.floating` is deprecated. In future, it will be treated as `np.float64 == np.dtype(float).type`.\n",
      "  from ._conv import register_converters as _register_converters\n"
     ]
    }
   ],
   "source": [
    "import numpy as np\n",
    "import tensorflow as tf\n",
    "import random\n",
    "import matplotlib.pyplot as plt\n",
    "tf.set_random_seed(777)"
   ]
  },
  {
   "cell_type": "code",
   "execution_count": 2,
   "metadata": {
    "collapsed": true
   },
   "outputs": [],
   "source": [
    "from tensorflow.examples.tutorials.mnist import input_data"
   ]
  },
  {
   "cell_type": "code",
   "execution_count": 6,
   "metadata": {},
   "outputs": [
    {
     "name": "stdout",
     "output_type": "stream",
     "text": [
      "Extracting MNIST_data/train-images-idx3-ubyte.gz\n",
      "Extracting MNIST_data/train-labels-idx1-ubyte.gz\n",
      "Extracting MNIST_data/t10k-images-idx3-ubyte.gz\n",
      "Extracting MNIST_data/t10k-labels-idx1-ubyte.gz\n"
     ]
    }
   ],
   "source": [
    "mnist= input_data.read_data_sets(\"MNIST_data/\", one_hot = True)"
   ]
  },
  {
   "cell_type": "code",
   "execution_count": 13,
   "metadata": {
    "collapsed": true
   },
   "outputs": [],
   "source": [
    "nb_classes = 10"
   ]
  },
  {
   "cell_type": "code",
   "execution_count": 19,
   "metadata": {
    "collapsed": true
   },
   "outputs": [],
   "source": [
    "X = tf.placeholder(tf.float32, [None, 784])\n",
    "Y = tf.placeholder(tf.float32, [None, nb_classes])"
   ]
  },
  {
   "cell_type": "code",
   "execution_count": 16,
   "metadata": {
    "collapsed": true
   },
   "outputs": [],
   "source": [
    "W = tf.Variable(tf.random_normal([784, nb_classes]))\n",
    "b= tf.Variable(tf.random_normal([nb_classes]))"
   ]
  },
  {
   "cell_type": "code",
   "execution_count": 20,
   "metadata": {
    "collapsed": true
   },
   "outputs": [],
   "source": [
    "\n",
    "hypothesis = tf.nn.softmax(tf.matmul(X, W) + b)\n",
    "\n",
    "cost = tf.reduce_mean(-tf.reduce_sum(Y * tf.log(hypothesis), axis=1))\n",
    "optimizer = tf.train.GradientDescentOptimizer(learning_rate=0.1).minimize(cost)\n"
   ]
  },
  {
   "cell_type": "code",
   "execution_count": 22,
   "metadata": {
    "collapsed": true
   },
   "outputs": [],
   "source": [
    "#Test Model\n",
    "is_correct = tf.equal(tf.arg_max(hypothesis, 1), tf.arg_max(Y, 1))\n",
    "accuracy = tf.reduce_mean(tf.cast(is_correct, tf.float32))"
   ]
  },
  {
   "cell_type": "markdown",
   "metadata": {},
   "source": [
    "### 한번에 다 학습시키면 너무 많아서 batch_size 를 설정해서, 그 수만큼씩만 학습시킴<br>\n",
    "**batch-size와 epoch 은 매우 일반적인 학습 방법**\n",
    "\n",
    "epoch -> 전체 데이터셋을 1번 학습시키는 것을 1 epoch 이라 함. <br> \n",
    "1 epoch을 돌때 batch size로 짤라서 그만큼씩 학습시킴 <br>\n",
    "ex) 1000 training 1000개인데 batch size가 500이면 2번 돌면 1 epoch <br>\n",
    "전체 # training data / # batch size 하면 총 몇번 돌지를 알 수 있음 <br>"
   ]
  },
  {
   "cell_type": "code",
   "execution_count": 24,
   "metadata": {
    "collapsed": true
   },
   "outputs": [],
   "source": [
    "training_epochs = 15\n",
    "batch_size =100"
   ]
  },
  {
   "cell_type": "code",
   "execution_count": 26,
   "metadata": {},
   "outputs": [
    {
     "name": "stdout",
     "output_type": "stream",
     "text": [
      "Epoch: 0001 cost = 2.957062667\n",
      "Epoch: 0002 cost = 1.129626979\n",
      "Epoch: 0003 cost = 0.896080582\n",
      "Epoch: 0004 cost = 0.783330621\n",
      "Epoch: 0005 cost = 0.716274962\n",
      "Epoch: 0006 cost = 0.667711866\n",
      "Epoch: 0007 cost = 0.630521649\n",
      "Epoch: 0008 cost = 0.600100615\n",
      "Epoch: 0009 cost = 0.577185039\n",
      "Epoch: 0010 cost = 0.556519811\n",
      "Epoch: 0011 cost = 0.538373777\n",
      "Epoch: 0012 cost = 0.523016011\n",
      "Epoch: 0013 cost = 0.509942682\n",
      "Epoch: 0014 cost = 0.496032299\n",
      "Epoch: 0015 cost = 0.486214741\n",
      "Learning Finished\n",
      "Accuracy:  0.8864\n",
      "Label:  [6]\n",
      "Prediction:  [6]\n"
     ]
    },
    {
     "data": {
      "image/png": "[encoded data removed]",
      "text/plain": [
       "<matplotlib.figure.Figure at 0x149f47860>"
      ]
     },
     "metadata": {},
     "output_type": "display_data"
    }
   ],
   "source": [
    "with tf.Session() as sess:\n",
    "    sess.run(tf.global_variables_initializer())\n",
    "    #Training Cycle\n",
    "    for epoch in range(training_epochs): #15epoch 돌 것\n",
    "        avg_cost= 0 ; #epoch 새로 들어갈때마다 초기화\n",
    "        #batch size 만큼 씩 끊으면 한 epoch 에 batch가 몇번인지를 의미\n",
    "        total_batch = int(mnist.train.num_examples / batch_size) \n",
    "        for i in range(total_batch):\n",
    "            batch_xs, batch_ys = mnist.train.next_batch(batch_size)\n",
    "            c, _ = sess.run([cost, optimizer], feed_dict = {\n",
    "                X: batch_xs, Y: batch_ys})\n",
    "            avg_cost += c/total_batch #이렇게 다 돌면 해당 epoch 의 avg cost가 나오겠네\n",
    "        print('Epoch:', '%04d' % (epoch+1),\n",
    "             'cost =', '{:.9f}'.format(avg_cost))\n",
    "        \n",
    "    print(\"Learning Finished\")\n",
    "    \n",
    "    # Test the model using test sets\n",
    "    print(\"Accuracy: \", accuracy.eval(session=sess, feed_dict={\n",
    "          X: mnist.test.images, Y: mnist.test.labels}))\n",
    "\n",
    "    \n",
    "    # Get one and predict\n",
    "    #random하게 하나를 읽어 옴. \n",
    "    # 0부터 뒷 수 사이의 임의의 정수\n",
    "    r = random.randint(0, mnist.test.num_examples - 1) \n",
    "    print(\"Label: \", sess.run(tf.argmax(mnist.test.labels[r:r + 1], 1)))\n",
    "    print(\"Prediction: \", sess.run(\n",
    "        tf.argmax(hypothesis, 1), feed_dict={X: mnist.test.images[r:r + 1]}))\n",
    "\n",
    "    plt.imshow(\n",
    "        mnist.test.images[r:r + 1].reshape(28, 28),\n",
    "        cmap='Greys',\n",
    "        interpolation='nearest')\n",
    "    plt.show()\n"
   ]
  },
  {
   "cell_type": "code",
   "execution_count": null,
   "metadata": {
    "collapsed": true
   },
   "outputs": [],
   "source": [
    "X = tf.placeholder(tf.float32, [None, 784])"
   ]
  },
  {
   "cell_type": "markdown",
   "metadata": {},
   "source": [
    "sess.run() = 텐서.eval(session=sess)\n",
    "같은의미임. \n",
    "하나만 실행시킬 땐 이렇게 함"
   ]
  }
 ],
 "metadata": {
  "kernelspec": {
   "display_name": "Python 3",
   "language": "python",
   "name": "python3"
  },
  "language_info": {
   "codemirror_mode": {
    "name": "ipython",
    "version": 3
   },
   "file_extension": ".py",
   "mimetype": "text/x-python",
   "name": "python",
   "nbconvert_exporter": "python",
   "pygments_lexer": "ipython3",
   "version": "3.6.1"
  }
 },
 "nbformat": 4,
 "nbformat_minor": 2
}
