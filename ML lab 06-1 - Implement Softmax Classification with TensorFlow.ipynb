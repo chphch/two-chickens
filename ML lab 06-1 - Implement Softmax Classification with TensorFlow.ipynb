{
 "cells": [
  {
   "cell_type": "code",
   "execution_count": 1,
   "metadata": {},
   "outputs": [],
   "source": [
    "import tensorflow as tf"
   ]
  },
  {
   "cell_type": "code",
   "execution_count": 11,
   "metadata": {},
   "outputs": [
    {
     "name": "stdout",
     "output_type": "stream",
     "text": [
      "0 2.2480683\n",
      "200 0.50880617\n",
      "400 0.41812038\n",
      "600 0.3441894\n",
      "800 0.2713582\n",
      "1000 0.22834226\n",
      "1200 0.20721938\n",
      "1400 0.18959366\n",
      "1600 0.17465568\n",
      "1800 0.16183619\n",
      "2000 0.15071893\n",
      "[[2.7492978e-03 9.9724030e-01 1.0390222e-05]\n",
      " [8.9384240e-01 9.2226677e-02 1.3930917e-02]\n",
      " [1.1327957e-08 3.2816693e-04 9.9967182e-01]] [1 0 2]\n"
     ]
    }
   ],
   "source": [
    "x_data = [\n",
    "    [1, 2, 1, 1],\n",
    "    [2, 1, 3, 2],\n",
    "    [3, 1, 3, 4],\n",
    "    [4, 1, 5, 5],\n",
    "    [1, 7, 5, 5],\n",
    "    [1, 2, 5, 6],\n",
    "    [1, 6, 6, 6],\n",
    "    [1, 7, 7, 7]\n",
    "]\n",
    "y_data = [\n",
    "    [0, 0, 1],\n",
    "    [0, 0, 1],\n",
    "    [0, 0, 1],\n",
    "    [0, 1, 0],\n",
    "    [0, 1, 0],\n",
    "    [0, 1, 0],\n",
    "    [1, 0, 0],\n",
    "    [1, 0, 0]\n",
    "]\n",
    "nb_classes = 3\n",
    "X = tf.placeholder(\"float\", [None, 4])\n",
    "Y = tf.placeholder(\"float\", [None, 3])\n",
    "W = tf.Variable(tf.random_normal([4, nb_classes]), name='weight')\n",
    "b = tf.Variable(tf.random_normal([nb_classes]), name='bias')\n",
    "hypothesis = tf.nn.softmax(tf.matmul(X, W) + b)\n",
    "cost = tf.reduce_mean(-tf.reduce_sum(Y * tf.log(hypothesis), axis=1))\n",
    "optimizer = tf.train.GradientDescentOptimizer(learning_rate=0.1).minimize(cost)\n",
    "\n",
    "with tf.Session() as sess:\n",
    "    sess.run(tf.global_variables_initializer())\n",
    "    for step in range(2001):\n",
    "        sess.run(optimizer, feed_dict={X: x_data, Y: y_data})\n",
    "        if step % 200 == 0:\n",
    "            print(step, sess.run(cost, feed_dict={X: x_data, Y: y_data}))\n",
    "            \n",
    "    all = sess.run(hypothesis, feed_dict={X: [\n",
    "        [1, 11, 7, 9],\n",
    "        [1, 3, 4, 3],\n",
    "        [1, 1, 0, 1]\n",
    "        ]})\n",
    "    print(all, sess.run(tf.arg_max(all, 1)))"
   ]
  }
 ],
 "metadata": {
  "kernelspec": {
   "display_name": "Python 3",
   "language": "python",
   "name": "python3"
  },
  "language_info": {
   "codemirror_mode": {
    "name": "ipython",
    "version": 3
   },
   "file_extension": ".py",
   "mimetype": "text/x-python",
   "name": "python",
   "nbconvert_exporter": "python",
   "pygments_lexer": "ipython3",
   "version": "3.6.4"
  }
 },
 "nbformat": 4,
 "nbformat_minor": 2
}
