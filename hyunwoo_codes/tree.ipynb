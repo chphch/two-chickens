{
 "cells": [
  {
   "cell_type": "code",
   "execution_count": 1,
   "metadata": {},
   "outputs": [
    {
     "name": "stdout",
     "output_type": "stream",
     "text": [
      "importing Jupyter notebook from preprocessor.ipynb\n"
     ]
    }
   ],
   "source": [
    "import import_ipynb\n",
    "from preprocessor import numerical, one_hot_encoded, one_hot_encoded_column_map\n",
    "\n",
    "import random\n",
    "import numpy as np\n",
    "import pandas as pd\n",
    "from sklearn.ensemble import (\n",
    "    RandomForestClassifier, RandomForestRegressor,\n",
    "    AdaBoostClassifier, AdaBoostRegressor)\n",
    "from sklearn.model_selection import train_test_split, KFold\n",
    "from sklearn.metrics import accuracy_score, precision_score\n",
    "from sklearn.model_selection import KFold"
   ]
  },
  {
   "cell_type": "code",
   "execution_count": 2,
   "metadata": {
    "scrolled": true
   },
   "outputs": [
    {
     "data": {
      "text/plain": [
       "{0: '사망자수',\n",
       " 1: '중상자수',\n",
       " 2: '경상자수',\n",
       " 3: '부상신고자수',\n",
       " 4: '당사자종별_2당_대분류',\n",
       " 5: '법규위반',\n",
       " 6: '당사자종별_1당_대분류',\n",
       " 7: '도로형태',\n",
       " 8: '발생지시도',\n",
       " 9: '요일',\n",
       " 10: '사고유형',\n",
       " 11: '주야'}"
      ]
     },
     "execution_count": 2,
     "metadata": {},
     "output_type": "execute_result"
    }
   ],
   "source": [
    "# Choose \"target_index\" from \"labels\"\n",
    "labels = dict(enumerate(list(numerical) + list(one_hot_encoded_column_map.keys())))\n",
    "labels"
   ]
  },
  {
   "cell_type": "code",
   "execution_count": 4,
   "metadata": {},
   "outputs": [],
   "source": [
    "def is_numerical(target_index):\n",
    "    return labels[target_index] in numerical\n",
    "\n",
    "def split(data, target_index):\n",
    "    label = labels[target_index]\n",
    "    target_columns = ([label] if is_numerical(target_index)\n",
    "                     else one_hot_encoded_column_map[label])\n",
    "    X = data.drop(target_columns, axis=1)\n",
    "    y = data[target_columns]\n",
    "    X_train, X_test, y_train, y_test = train_test_split(\n",
    "        X, y, test_size=0.2, random_state=0)\n",
    "    return (X_train.values, X_test.values,\n",
    "            y_train.values.reshape(-1), y_test.values.reshape(-1))\n",
    "\n",
    "def calc_numerical_score(y_pred, y_true):\n",
    "    return np.mean(np.exp(-np.square(- (y_pred - y_true) / np.std(y_true))))"
   ]
  },
  {
   "cell_type": "code",
   "execution_count": 6,
   "metadata": {},
   "outputs": [
    {
     "name": "stdout",
     "output_type": "stream",
     "text": [
      "0.9464095478880815 0.8522973318173194\n",
      "0.9460480752622382 0.843206072864385\n"
     ]
    }
   ],
   "source": [
    "def train(data, target_index, n_splits):\n",
    "    X_train, X_test, y_train, y_test = split(data, target_index)\n",
    "    \n",
    "    model = (RandomForestRegressor\n",
    "                 if is_numerical(target_index)\n",
    "                 else RandomForestClassifier\n",
    "            )(random_state=0)\n",
    "    \n",
    "    kf = KFold(n_splits=n_splits, random_state=0)\n",
    "    for train_index, val_index in kf.split(X_train):\n",
    "        X_train_fold = X_train[train_index]\n",
    "        X_val_fold = X_train[val_index]\n",
    "        y_train_fold = y_train[train_index]\n",
    "        y_val_fold = y_train[val_index]\n",
    "        model.fit(X_train_fold, y_train_fold)\n",
    "        \n",
    "        score_method = (calc_numerical_score\n",
    "               if is_numerical(target_index)\n",
    "               else accuracy_score)\n",
    "        print(\n",
    "            score_method(model.predict(X_train_fold), y_train_fold),\n",
    "            score_method(model.predict(X_val_fold), y_val_fold)\n",
    "        )\n",
    "\n",
    "n_splits = 2\n",
    "target_index = 1\n",
    "data = pd.concat([numerical, one_hot_encoded], axis=1, sort=False)\n",
    "train(data, target_index=target_index, n_splits=n_splits)"
   ]
  }
 ],
 "metadata": {
  "kernelspec": {
   "display_name": "Python 3",
   "language": "python",
   "name": "python3"
  },
  "language_info": {
   "codemirror_mode": {
    "name": "ipython",
    "version": 3
   },
   "file_extension": ".py",
   "mimetype": "text/x-python",
   "name": "python",
   "nbconvert_exporter": "python",
   "pygments_lexer": "ipython3",
   "version": "3.6.4"
  }
 },
 "nbformat": 4,
 "nbformat_minor": 2
}
