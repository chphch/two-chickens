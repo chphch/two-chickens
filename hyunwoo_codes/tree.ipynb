{
 "cells": [
  {
   "cell_type": "code",
   "execution_count": 2,
   "metadata": {},
   "outputs": [
    {
     "name": "stdout",
     "output_type": "stream",
     "text": [
      "importing Jupyter notebook from preprocessor.ipynb\n"
     ]
    }
   ],
   "source": [
    "import numpy as np\n",
    "import pandas as pd\n",
    "from sklearn.ensemble import (\n",
    "    RandomForestClassifier, RandomForestRegressor,\n",
    "    AdaBoostClassifier, AdaBoostRegressor)\n",
    "from sklearn.model_selection import train_test_split, KFold\n",
    "from sklearn.metrics import accuracy_score, precision_score\n",
    "\n",
    "import import_ipynb\n",
    "from preprocessor import preprocessor, numerical_columns\n",
    "\n",
    "def split(X, y):\n",
    "    X_train, X_test, y_train, y_test = train_test_split(\n",
    "        X, y, test_size=0.2, random_state=0)\n",
    "    return (X_train.values, X_test.values,\n",
    "            y_train.values.reshape(-1), y_test.values.reshape(-1))\n",
    "\n",
    "def generate_column_key(target_column, dropping_columns):\n",
    "    return target_column, frozenset(dropping_columns)\n",
    "\n",
    "def calc_numerical_score(y_pred, y_true):\n",
    "    return np.mean(np.exp(-np.square(- (y_pred - y_true) / np.std(y_true))))\n",
    "\n",
    "class Tree(object):\n",
    "    def __init__(self):\n",
    "        self.models = dict()\n",
    "        \n",
    "    def train(self, X, y, target_column, dropping_columns):\n",
    "        column_key = generate_column_key(target_column, dropping_columns)\n",
    "        if column_key not in self.models:\n",
    "            print(\"Training target: \", target_column, \" (dropped {})\".format(dropping_columns))\n",
    "            model, test_score = train_model(X, y, target_column)\n",
    "            self.models[column_key] = model\n",
    "            base_score = baseline(X, y, target_column)\n",
    "            print(\"    Test score: {}, (base score: {})\".format(test_score, base_score))\n",
    "    \n",
    "    def predict(self, preprocessed, target_column, dropping_columns):\n",
    "        column_key = generate_column_key(target_column, dropping_columns)\n",
    "        return self.models[column_key].predict(preprocessed)    "
   ]
  },
  {
   "cell_type": "code",
   "execution_count": 3,
   "metadata": {
    "scrolled": true
   },
   "outputs": [],
   "source": [
    "n_splits = 3\n",
    "\n",
    "def baseline(X, y, target_column):\n",
    "    baselines = {\n",
    "        '사망자수': np.ones(y.shape),\n",
    "        '경상자수': np.zeros(y.shape),\n",
    "        '부상신고자수': np.zeros(y.shape),\n",
    "        '중상자수': np.zeros(y.shape),\n",
    "        '사고유형_대분류': np.full(y.shape, '차대차'),\n",
    "        '사고유형_중분류': np.full(y.shape, '횡단중'),\n",
    "        '법규위반': np.full(y.shape, '안전운전 의무 불이행'),\n",
    "        '주야': np.full(y.shape, '야간'),\n",
    "        '요일': np.full(y.shape, '금'),\n",
    "        '발생지시도': np.full(y.shape, '경기'),\n",
    "        '발생지시군구': np.full(y.shape, '서구'),\n",
    "        '사고유형_대분류': np.full(y.shape, '차대차'),\n",
    "        '사고유형_중분류': np.full(y.shape, '기타'),\n",
    "        '도로형태_대분류': np.full(y.shape, '단일로'),\n",
    "        '당사자종별_1당_대분류': np.full(y.shape, '승용차'),\n",
    "        '당사자종별_2당_대분류': np.full(y.shape, '보행자'),\n",
    "    }\n",
    "    base = (baselines[target_column]\n",
    "            if target_column in baselines else y)\n",
    "    score_method = (calc_numerical_score \n",
    "                    if target_column in numerical_columns\n",
    "                    else accuracy_score)\n",
    "    return score_method(base, y)\n",
    "\n",
    "def train_model(X, y, target_column):\n",
    "    X_train, X_test, y_train, y_test = split(X, y)\n",
    "    \n",
    "    Model = (RandomForestRegressor\n",
    "                 if target_column in numerical_columns\n",
    "                 else RandomForestClassifier\n",
    "            )\n",
    "    score_method = (calc_numerical_score\n",
    "       if target_column in numerical_columns\n",
    "       else accuracy_score)\n",
    "    \n",
    "    avg_train_score = 0\n",
    "    avg_val_score = 0\n",
    "    kf = KFold(n_splits=n_splits, random_state=0)\n",
    "    for train_index, val_index in kf.split(X_train):\n",
    "        model = Model(random_state=0)\n",
    "        X_train_fold = X_train[train_index]\n",
    "        X_val_fold = X_train[val_index]\n",
    "        y_train_fold = y_train[train_index]\n",
    "        y_val_fold = y_train[val_index]\n",
    "        model.fit(X_train_fold, y_train_fold)\n",
    "        \n",
    "        train_score = score_method(model.predict(X_train_fold), y_train_fold)\n",
    "        val_score = score_method(model.predict(X_val_fold), y_val_fold)\n",
    "        avg_train_score += train_score / n_splits\n",
    "        avg_val_score += val_score / n_splits\n",
    "\n",
    "    test_score = score_method(model.predict(X_test), y_test)\n",
    "\n",
    "    model = Model()\n",
    "    model.fit(X, y)\n",
    "#     print(model.predict(X_test))\n",
    "#     print(y_test)\n",
    "    return model, test_score\n",
    "\n",
    "condition = preprocessor.conditions[0]\n",
    "target_column = condition.target_columns[0]\n",
    "dropping_columns = condition.target_columns.drop(target_column)\n",
    "X, y = preprocessor.preprocessed(target_column, dropping_columns)\n",
    "# print(baseline(X, y, target_column))\n",
    "# train_model(X, y, target_column)\n",
    "\n",
    "for condition in preprocessor.conditions[10:11]:\n",
    "    target_columns = condition.target_columns\n",
    "    for target_column in target_columns:\n",
    "        dropping_columns = target_columns.drop(target_column)\n",
    "        X, y = preprocessor.preprocessed(target_column, dropping_columns)\n",
    "        model, test_score = train_model(X, y, target_column)\n",
    "        base_score = baseline(X, y, target_column)\n",
    "#         print(target_column, list(dropping_columns), test_score, base_score)"
   ]
  },
  {
   "cell_type": "code",
   "execution_count": 80,
   "metadata": {},
   "outputs": [
    {
     "name": "stdout",
     "output_type": "stream",
     "text": [
      "주야 야간\n",
      "요일 금\n",
      "발생지시도 경기\n",
      "발생지시군구 서구\n",
      "사고유형_대분류 차대차\n",
      "사고유형_중분류 기타\n",
      "법규위반 안전운전 의무 불이행\n",
      "도로형태_대분류 단일로\n",
      "도로형태 기타단일로\n",
      "당사자종별_1당_대분류 승용차\n",
      "당사자종별_2당_대분류 보행자\n"
     ]
    }
   ],
   "source": [
    "# Most common values for categorical columns\n",
    "# for column in preprocessor.categorical:\n",
    "#     print(column, preprocessor.categorical.loc[:, column].value_counts().idxmax())"
   ]
  }
 ],
 "metadata": {
  "kernelspec": {
   "display_name": "Python 3",
   "language": "python",
   "name": "python3"
  },
  "language_info": {
   "codemirror_mode": {
    "name": "ipython",
    "version": 3
   },
   "file_extension": ".py",
   "mimetype": "text/x-python",
   "name": "python",
   "nbconvert_exporter": "python",
   "pygments_lexer": "ipython3",
   "version": "3.6.4"
  }
 },
 "nbformat": 4,
 "nbformat_minor": 2
}
