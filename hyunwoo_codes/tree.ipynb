{
 "cells": [
  {
   "cell_type": "code",
   "execution_count": 2,
   "metadata": {},
   "outputs": [
    {
     "name": "stdout",
     "output_type": "stream",
     "text": [
      "importing Jupyter notebook from preprocessor.ipynb\n"
     ]
    }
   ],
   "source": [
    "import numpy as np\n",
    "import pandas as pd\n",
    "from sklearn.ensemble import (\n",
    "    RandomForestClassifier, RandomForestRegressor,\n",
    "    AdaBoostClassifier, AdaBoostRegressor)\n",
    "from sklearn.model_selection import train_test_split, KFold\n",
    "from sklearn.metrics import accuracy_score, precision_score\n",
    "from imblearn.over_sampling import RandomOverSampler\n",
    "\n",
    "import import_ipynb\n",
    "from preprocessor import preprocessor, numerical_columns\n",
    "\n",
    "def split(X, y):\n",
    "    X_train, X_test, y_train, y_test = train_test_split(\n",
    "        X, y, test_size=0.2, random_state=0)\n",
    "    return (X_train.values, X_test.values,\n",
    "            y_train.values.reshape(-1), y_test.values.reshape(-1))\n",
    "\n",
    "def generate_column_key(target_column, dropping_columns):\n",
    "    return target_column, frozenset(dropping_columns)\n",
    "\n",
    "def calc_numerical_score(y_pred, y_true):\n",
    "    return np.mean(np.exp(-np.square(- (y_pred - y_true) / np.std(y_true))))\n",
    "\n",
    "class Tree(object):\n",
    "    def __init__(self):\n",
    "        self.models = dict()\n",
    "        \n",
    "    def train(self, target_column, dropping_columns):\n",
    "        column_key = generate_column_key(target_column, dropping_columns)\n",
    "        if column_key not in self.models:\n",
    "            print(\"Training target: \", target_column, \" (dropped {})\".format(dropping_columns))\n",
    "            X, y = preprocessor.preprocessed(target_column, dropping_columns)\n",
    "            model, test_score = select_model(X, y, target_column)\n",
    "            self.models[column_key] = model\n",
    "            base_score = baseline(target_column, dropping_columns)\n",
    "            print(\"    Test score: {}, (base score: {})\".format(test_score, base_score))\n",
    "    \n",
    "    def predict(self, preprocessed, target_column, dropping_columns):\n",
    "        column_key = generate_column_key(target_column, dropping_columns)\n",
    "        return self.models[column_key].predict(preprocessed), score, base_score\n",
    "    \n",
    "def baseline(target_column, dropping_columns):\n",
    "    X, y = preprocessor.preprocessed(target_column, dropping_columns)\n",
    "    baselines = {\n",
    "        '사망자수': np.ones(y.shape),\n",
    "        '경상자수': np.zeros(y.shape),\n",
    "        '부상신고자수': np.zeros(y.shape),\n",
    "        '중상자수': np.zeros(y.shape),\n",
    "        '사고유형_대분류': np.full(y.shape, '차대차'),\n",
    "        '사고유형_중분류': np.full(y.shape, '횡단중'),\n",
    "        '법규위반': np.full(y.shape, '안전운전 의무 불이행'),\n",
    "        '주야': np.full(y.shape, '야간'),\n",
    "        '요일': np.full(y.shape, '금'),\n",
    "        '발생지시도': np.full(y.shape, '경기'),\n",
    "        '발생지시군구': np.full(y.shape, '서구'),\n",
    "        '사고유형_대분류': np.full(y.shape, '차대차'),\n",
    "        '사고유형_중분류': np.full(y.shape, '기타'),\n",
    "        '도로형태_대분류': np.full(y.shape, '단일로'),\n",
    "        '당사자종별_1당_대분류': np.full(y.shape, '승용차'),\n",
    "        '당사자종별_2당_대분류': np.full(y.shape, '보행자'),\n",
    "    }\n",
    "    base = (baselines[target_column]\n",
    "            if target_column in baselines else y)\n",
    "    score_method = (calc_numerical_score \n",
    "                    if target_column in numerical_columns\n",
    "                    else accuracy_score)\n",
    "    return score_method(base, y)"
   ]
  },
  {
   "cell_type": "code",
   "execution_count": 75,
   "metadata": {
    "scrolled": true
   },
   "outputs": [],
   "source": [
    "n_splits = 3\n",
    "\n",
    "def select_model(X, y, target_column):\n",
    "    X_train, X_test, y_train, y_test = split(X, y)\n",
    "    Model = (lambda **kwargs: RandomForestRegressor(random_state=0, **kwargs)\n",
    "                 if target_column in numerical_columns\n",
    "                 else RandomForestClassifier(random_state=0, **kwargs))\n",
    "    score_method = (calc_numerical_score\n",
    "       if target_column in numerical_columns\n",
    "       else accuracy_score)\n",
    "\n",
    "    optimal_max_depth = 0\n",
    "    opmimal_max_score = 0\n",
    "    for max_depth in range(3, 4):\n",
    "        val_score = validate(\n",
    "            X_train, y_train, Model,\n",
    "            max_depth, score_method)\n",
    "        if val_score > optimal_max_depth:\n",
    "            optimal_max_score = val_score\n",
    "            optimal_max_depth = max_depth\n",
    "\n",
    "    model = Model(max_depth=optimal_max_depth).fit(X, y)\n",
    "    test_score = score_method(model.predict(X_test), y_test)\n",
    "    return model, test_score\n",
    "\n",
    "def calc_weights(y):\n",
    "    y = pd.Series(y)\n",
    "    weight_dict = dict(1 / y.value_counts(normalize=True))\n",
    "    return y.apply(lambda x: weight_dict[x])\n",
    "\n",
    "def validate(X_train, y_train, Model, max_depth, score_method):\n",
    "    avg_val_score = 0\n",
    "    kf = KFold(n_splits=n_splits)\n",
    "    \n",
    "    ros = RandomOverSampler(random_state=0)\n",
    "    X_train, y_train = ros.fit_sample(X_train, y_train)\n",
    "    \n",
    "    for train_index, val_index in kf.split(X_train):\n",
    "        X_train_fold = X_train[train_index]\n",
    "        X_val_fold = X_train[val_index]\n",
    "        y_train_fold = y_train[train_index]\n",
    "        y_val_fold = y_train[val_index]\n",
    "        \n",
    "        val_score = score_method(Model(max_depth=max_depth)\n",
    "                    .fit(X_train_fold, y_train_fold)\n",
    "                    .predict(X_val_fold), y_val_fold)\n",
    "        avg_val_score += val_score / n_splits\n",
    "    return avg_val_score"
   ]
  },
  {
   "cell_type": "code",
   "execution_count": 73,
   "metadata": {},
   "outputs": [
    {
     "name": "stdout",
     "output_type": "stream",
     "text": [
      "[(1, 24206), (2, 24206), (3, 24206), (4, 24206), (5, 24206), (6, 24206), (8, 24206), (10, 24206)]\n"
     ]
    }
   ],
   "source": [
    "ros = RandomOverSampler(random_state=0)\n",
    "X_resampled, y_resampled = ros.fit_sample(X, y)\n",
    "from collections import Counter\n",
    "print(sorted(Counter(y_resampled).items()))"
   ]
  },
  {
   "cell_type": "code",
   "execution_count": 77,
   "metadata": {},
   "outputs": [
    {
     "name": "stdout",
     "output_type": "stream",
     "text": [
      "Test score: 0.71685303514377, (base_score: 0.6688501018492631)\n"
     ]
    }
   ],
   "source": [
    "condition = preprocessor.conditions[20]\n",
    "target_column = condition.target_columns[0]\n",
    "dropping_columns = condition.target_columns.drop(target_column)\n",
    "X, y = preprocessor.preprocessed(target_column, dropping_columns)\n",
    "base_score = baseline(target_column, dropping_columns)\n",
    "model, test_score = select_model(X, y, target_column)\n",
    "print(\"Test score: {}, (base_score: {})\".format(test_score, base_score))"
   ]
  },
  {
   "cell_type": "code",
   "execution_count": 80,
   "metadata": {},
   "outputs": [
    {
     "name": "stdout",
     "output_type": "stream",
     "text": [
      "주야 야간\n",
      "요일 금\n",
      "발생지시도 경기\n",
      "발생지시군구 서구\n",
      "사고유형_대분류 차대차\n",
      "사고유형_중분류 기타\n",
      "법규위반 안전운전 의무 불이행\n",
      "도로형태_대분류 단일로\n",
      "도로형태 기타단일로\n",
      "당사자종별_1당_대분류 승용차\n",
      "당사자종별_2당_대분류 보행자\n"
     ]
    }
   ],
   "source": [
    "# Most common values for categorical columns\n",
    "# for column in preprocessor.categorical:\n",
    "#     print(column, preprocessor.categorical.loc[:, column].value_counts().idxmax())"
   ]
  }
 ],
 "metadata": {
  "kernelspec": {
   "display_name": "Python 3",
   "language": "python",
   "name": "python3"
  },
  "language_info": {
   "codemirror_mode": {
    "name": "ipython",
    "version": 3
   },
   "file_extension": ".py",
   "mimetype": "text/x-python",
   "name": "python",
   "nbconvert_exporter": "python",
   "pygments_lexer": "ipython3",
   "version": "3.6.4"
  }
 },
 "nbformat": 4,
 "nbformat_minor": 2
}
