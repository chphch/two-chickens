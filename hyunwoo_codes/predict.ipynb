{
 "cells": [
  {
   "cell_type": "code",
   "execution_count": 1,
   "metadata": {},
   "outputs": [
    {
     "name": "stdout",
     "output_type": "stream",
     "text": [
      "importing Jupyter notebook from preprocessor.ipynb\n"
     ]
    }
   ],
   "source": [
    "import pandas as pd\n",
    "\n",
    "import import_ipynb\n",
    "from preprocessor import preprocessor, drop_index, read_file\n",
    "\n",
    "result_path = '../result_kor_OSX.csv'\n",
    "result_out_path = 'result_out.csv'\n",
    "\n",
    "def predict(condition, model):\n",
    "    target_columns = condition.target_columns\n",
    "    for target_column in target_columns:\n",
    "        dropping_columns = target_columns.drop(target_column)\n",
    "        X, y = propeocessor.preprocessed(target_column, dropping_columns)\n",
    "        model.train(X, y, target_column, dropping_columns)\n",
    "    return pd.Series(dict(\n",
    "        (target_column, model.predict(condition.preprocessed, target_column, dropping_columns))\n",
    "        for target_column, model in zip(target_columns, models)))\n",
    "\n",
    "def char_to_int(char):\n",
    "    return ord(char.lower()) - 96\n",
    "\n",
    "model = Model()\n",
    "completed_rows = []\n",
    "for condition in preprocessor.conditions:\n",
    "    original = drop_index(condition.original.dropna(), condition.target_columns)\n",
    "    predicted = preprocessor.restore_predicted(predict(condition, model))\n",
    "    completed_row = pd.concat([original, predicted])\n",
    "    completed_rows.append(completed_row)\n",
    "completed = (pd.concat(completed_rows, axis=1, sort=False).T\n",
    "               .reindex(columns=preprocessor.predict_columns_order))\n",
    "completed['사상자수'] = (completed.reindex(columns=['사망자수', '중상자수', '경상자수'])\n",
    "                                .apply(sum, axis=1))\n",
    "result = read_file(result_path)\n",
    "\n",
    "rows = []\n",
    "for index, row in result.iterrows():\n",
    "    answer = completed.loc[row['열'] - 2][char_to_int(row['행']) - 1]\n",
    "    row['값'] = answer\n",
    "    rows.append(row)\n",
    "result_out = pd.DataFrame(rows)\n",
    "result_out.to_csv(result_out_path)"
   ]
  }
 ],
 "metadata": {
  "kernelspec": {
   "display_name": "Python 3",
   "language": "python",
   "name": "python3"
  },
  "language_info": {
   "codemirror_mode": {
    "name": "ipython",
    "version": 3
   },
   "file_extension": ".py",
   "mimetype": "text/x-python",
   "name": "python",
   "nbconvert_exporter": "python",
   "pygments_lexer": "ipython3",
   "version": "3.6.4"
  }
 },
 "nbformat": 4,
 "nbformat_minor": 2
}
