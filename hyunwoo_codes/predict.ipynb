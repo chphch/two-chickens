{
 "cells": [
  {
   "cell_type": "code",
   "execution_count": 1,
   "metadata": {
    "scrolled": false
   },
   "outputs": [
    {
     "name": "stdout",
     "output_type": "stream",
     "text": [
      "Test score: 0.9260001635100559, (base_score: 0.9668091268418382)\n"
     ]
    },
    {
     "ename": "TypeError",
     "evalue": "train() missing 2 required positional arguments: 'target_column' and 'dropping_columns'",
     "output_type": "error",
     "traceback": [
      "\u001b[0;31m---------------------------------------------------------------------------\u001b[0m",
      "\u001b[0;31mTypeError\u001b[0m                                 Traceback (most recent call last)",
      "\u001b[0;32m<ipython-input-1-0aaa58246ae9>\u001b[0m in \u001b[0;36m<module>\u001b[0;34m()\u001b[0m\n\u001b[1;32m     33\u001b[0m \u001b[0mmodel\u001b[0m \u001b[0;34m=\u001b[0m \u001b[0mTree\u001b[0m\u001b[0;34m(\u001b[0m\u001b[0;34m)\u001b[0m\u001b[0;34m\u001b[0m\u001b[0m\n\u001b[1;32m     34\u001b[0m \u001b[0;32mfor\u001b[0m \u001b[0mindex\u001b[0m\u001b[0;34m,\u001b[0m \u001b[0mcondition\u001b[0m \u001b[0;32min\u001b[0m \u001b[0menumerate\u001b[0m\u001b[0;34m(\u001b[0m\u001b[0mpreprocessor\u001b[0m\u001b[0;34m.\u001b[0m\u001b[0mconditions\u001b[0m\u001b[0;34m)\u001b[0m\u001b[0;34m:\u001b[0m\u001b[0;34m\u001b[0m\u001b[0m\n\u001b[0;32m---> 35\u001b[0;31m     \u001b[0mtrain\u001b[0m\u001b[0;34m(\u001b[0m\u001b[0mcondition\u001b[0m\u001b[0;34m,\u001b[0m \u001b[0mmodel\u001b[0m\u001b[0;34m)\u001b[0m\u001b[0;34m\u001b[0m\u001b[0m\n\u001b[0m\u001b[1;32m     36\u001b[0m \u001b[0;34m\u001b[0m\u001b[0m\n\u001b[1;32m     37\u001b[0m \u001b[0mcompleted_rows\u001b[0m \u001b[0;34m=\u001b[0m \u001b[0;34m[\u001b[0m\u001b[0;34m]\u001b[0m\u001b[0;34m\u001b[0m\u001b[0m\n",
      "\u001b[0;32m<ipython-input-1-0aaa58246ae9>\u001b[0m in \u001b[0;36mtrain\u001b[0;34m(condition, model)\u001b[0m\n\u001b[1;32m     12\u001b[0m     \u001b[0;32mfor\u001b[0m \u001b[0mtarget_column\u001b[0m \u001b[0;32min\u001b[0m \u001b[0mtarget_columns\u001b[0m\u001b[0;34m:\u001b[0m\u001b[0;34m\u001b[0m\u001b[0m\n\u001b[1;32m     13\u001b[0m         \u001b[0mdropping_columns\u001b[0m \u001b[0;34m=\u001b[0m \u001b[0mtarget_columns\u001b[0m\u001b[0;34m.\u001b[0m\u001b[0mdrop\u001b[0m\u001b[0;34m(\u001b[0m\u001b[0mtarget_column\u001b[0m\u001b[0;34m)\u001b[0m\u001b[0;34m\u001b[0m\u001b[0m\n\u001b[0;32m---> 14\u001b[0;31m         \u001b[0mmodel\u001b[0m\u001b[0;34m.\u001b[0m\u001b[0mtrain\u001b[0m\u001b[0;34m(\u001b[0m\u001b[0mtarget_column\u001b[0m\u001b[0;34m,\u001b[0m \u001b[0mdropping_columns\u001b[0m\u001b[0;34m)\u001b[0m\u001b[0;34m\u001b[0m\u001b[0m\n\u001b[0m\u001b[1;32m     15\u001b[0m \u001b[0;34m\u001b[0m\u001b[0m\n\u001b[1;32m     16\u001b[0m \u001b[0;32mdef\u001b[0m \u001b[0mpredict\u001b[0m\u001b[0;34m(\u001b[0m\u001b[0mcondition\u001b[0m\u001b[0;34m,\u001b[0m \u001b[0mmodel\u001b[0m\u001b[0;34m)\u001b[0m\u001b[0;34m:\u001b[0m\u001b[0;34m\u001b[0m\u001b[0m\n",
      "\u001b[0;31mTypeError\u001b[0m: train() missing 2 required positional arguments: 'target_column' and 'dropping_columns'"
     ]
    }
   ],
   "source": [
    "import pandas as pd\n",
    "\n",
    "import import_ipynb\n",
    "from preprocessor import preprocessor, drop_index, read_file\n",
    "from tree import Tree, baseline\n",
    "\n",
    "result_path = '../result_kor_OSX.csv'\n",
    "result_out_path = 'result_out.csv'\n",
    "\n",
    "def train(condition, model):\n",
    "    target_columns = condition.target_columns\n",
    "    for target_column in target_columns:\n",
    "        dropping_columns = target_columns.drop(target_column)\n",
    "        model.train(target_column, dropping_columns)\n",
    "\n",
    "def predict(condition, model):\n",
    "    target_columns = condition.target_columns\n",
    "    predicted = {}\n",
    "    total_score = 0\n",
    "    for target_column in target_columns:\n",
    "        dropping_columns = target_columns.drop(target_column)\n",
    "        preprocessed = condition.preprocessed.values.reshape(1, -1)\n",
    "        predicted[target_column], score = model.predict(\n",
    "            preprocessed, target_column, dropping_columns)\n",
    "        base_score = baseline(target_column, dropping_columns)\n",
    "        total_score += score\n",
    "        total_base_score += base_score\n",
    "    return pd.Series(predicted), total_score, total_base_score\n",
    "\n",
    "def char_to_int(char):\n",
    "    return ord(char.lower()) - 96\n",
    "\n",
    "model = Tree()\n",
    "for index, condition in enumerate(preprocessor.conditions):\n",
    "    train(condition, model)\n",
    "    \n",
    "completed_rows = []\n",
    "total_score = 0\n",
    "total_base_score = 0\n",
    "conditions = preprocessor.conditions\n",
    "for condition in conditions:\n",
    "    original = drop_index(condition.original.dropna(), condition.target_columns)\n",
    "    predicted, score, base_score = predict(condition, model)\n",
    "    total_score += score\n",
    "    total_base_score += base_score\n",
    "    completed_row = pd.concat([original, predicted])\n",
    "    completed_rows.append(completed_row)\n",
    "    \n",
    "number_of_models = sum(len(condition.target_columns) for condition in conditions)\n",
    "avg_score = total_score / number_of_models\n",
    "avg_base_score = total_base_score / number_of_models\n",
    "print()\n",
    "print(\"Total score: \", avg_score, \" (total base score: {})\".format(avg_base_score))\n",
    "\n",
    "completed = (pd.concat(completed_rows, axis=1, sort=False).T\n",
    "                .reindex(columns=preprocessor.predict_columns_order))\n",
    "completed['사상자수'] = (completed\n",
    "                        .reindex(\n",
    "                            columns=['사망자수', '중상자수', '경상자수'])\n",
    "                        .apply(sum, axis=1))\n",
    "\n",
    "result = read_file(result_path)\n",
    "rows = []\n",
    "for index, row in result.iterrows():\n",
    "    row['값'] = completed.loc[row['열'] - 2][char_to_int(row['행']) - 1]\n",
    "    rows.append(row)\n",
    "result_out = pd.DataFrame(rows)\n",
    "result_out.to_csv(result_out_path)"
   ]
  },
  {
   "cell_type": "code",
   "execution_count": null,
   "metadata": {},
   "outputs": [],
   "source": []
  }
 ],
 "metadata": {
  "kernelspec": {
   "display_name": "Python 3",
   "language": "python",
   "name": "python3"
  },
  "language_info": {
   "codemirror_mode": {
    "name": "ipython",
    "version": 3
   },
   "file_extension": ".py",
   "mimetype": "text/x-python",
   "name": "python",
   "nbconvert_exporter": "python",
   "pygments_lexer": "ipython3",
   "version": "3.6.4"
  }
 },
 "nbformat": 4,
 "nbformat_minor": 2
}
