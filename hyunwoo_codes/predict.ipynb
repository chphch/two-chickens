{
 "cells": [
  {
   "cell_type": "code",
   "execution_count": null,
   "metadata": {
    "scrolled": false
   },
   "outputs": [
    {
     "name": "stdout",
     "output_type": "stream",
     "text": [
      "Training target:  사망자수  (dropped Index(['경상자수'], dtype='object'))\n",
      "    Test score: 0.9069591134069185, (base score: 0.9668091268418382)\n",
      "Training target:  경상자수  (dropped Index(['사망자수'], dtype='object'))\n",
      "    Test score: 0.9110051245751773, (base score: 0.9113787339852367)\n",
      "Training target:  사망자수  (dropped Index(['경상자수'], dtype='object'))\n",
      "Training target:  경상자수  (dropped Index(['사망자수'], dtype='object'))\n",
      "Training target:  중상자수  (dropped Index(['부상신고자수'], dtype='object'))\n",
      "    Test score: 0.8765544953491187, (base score: 0.8762999464342794)\n",
      "Training target:  부상신고자수  (dropped Index(['중상자수'], dtype='object'))\n",
      "    Test score: 0.9795684491793273, (base score: 0.9828530191957248)\n",
      "Training target:  중상자수  (dropped Index(['부상신고자수'], dtype='object'))\n",
      "Training target:  부상신고자수  (dropped Index(['중상자수'], dtype='object'))\n",
      "Training target:  중상자수  (dropped Index(['경상자수'], dtype='object'))\n"
     ]
    }
   ],
   "source": [
    "import pandas as pd\n",
    "\n",
    "import import_ipynb\n",
    "from preprocessor import preprocessor, drop_index, read_file\n",
    "from tree import Tree\n",
    "\n",
    "result_path = '../result_kor_OSX.csv'\n",
    "result_out_path = 'result_out.csv'\n",
    "\n",
    "def predict(condition, model):\n",
    "    target_columns = condition.target_columns\n",
    "    for target_column in target_columns:\n",
    "        dropping_columns = target_columns.drop(target_column)\n",
    "        X, y = preprocessor.preprocessed(target_column, dropping_columns)\n",
    "        b = X.columns\n",
    "        model.train(X, y, target_column, dropping_columns)\n",
    "    predicted = {}\n",
    "    for target_column in target_columns:\n",
    "        dropping_columns = target_columns.drop(target_column)\n",
    "        a = condition.preprocessed.index\n",
    "        preprocessed = condition.preprocessed.values.reshape(1, -1)\n",
    "        predicted[target_column] = model.predict(\n",
    "            preprocessed, target_column, dropping_columns)[0]\n",
    "    return pd.Series(predicted)\n",
    "\n",
    "def char_to_int(char):\n",
    "    return ord(char.lower()) - 96\n",
    "\n",
    "model = Tree()\n",
    "completed_rows = []\n",
    "for condition in preprocessor.conditions:\n",
    "    original = drop_index(condition.original.dropna(), condition.target_columns)\n",
    "    predicted = preprocessor.restore_predicted(predict(condition, model))\n",
    "    completed_row = pd.concat([original, predicted])\n",
    "    completed_rows.append(completed_row)\n",
    "completed = (pd.concat(completed_rows, axis=1, sort=False).T\n",
    "               .reindex(columns=preprocessor.predict_columns_order))\n",
    "completed['사상자수'] = (completed.reindex(columns=['사망자수', '중상자수', '경상자수'])\n",
    "                                .apply(sum, axis=1))\n",
    "\n",
    "result = read_file(result_path)\n",
    "rows = []\n",
    "for index, row in result.iterrows():\n",
    "    answer = completed.loc[row['열'] - 2][char_to_int(row['행']) - 1]\n",
    "    row['값'] = answer\n",
    "    rows.append(row)\n",
    "result_out = pd.DataFrame(rows)\n",
    "# result_out.to_csv(result_out_path)"
   ]
  },
  {
   "cell_type": "code",
   "execution_count": null,
   "metadata": {},
   "outputs": [],
   "source": []
  }
 ],
 "metadata": {
  "kernelspec": {
   "display_name": "Python 3",
   "language": "python",
   "name": "python3"
  },
  "language_info": {
   "codemirror_mode": {
    "name": "ipython",
    "version": 3
   },
   "file_extension": ".py",
   "mimetype": "text/x-python",
   "name": "python",
   "nbconvert_exporter": "python",
   "pygments_lexer": "ipython3",
   "version": "3.6.4"
  }
 },
 "nbformat": 4,
 "nbformat_minor": 2
}
