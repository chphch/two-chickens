{
 "cells": [
  {
   "cell_type": "code",
   "execution_count": 1,
   "metadata": {
    "scrolled": false
   },
   "outputs": [
    {
     "name": "stdout",
     "output_type": "stream",
     "text": [
      "importing Jupyter notebook from preprocessor.ipynb\n"
     ]
    }
   ],
   "source": [
    "import tensorflow as tf\n",
    "import numpy as np\n",
    "import random\n",
    "\n",
    "import import_ipynb\n",
    "import preprocessor\n",
    "\n",
    "tf.set_random_seed(777)\n",
    "df = preprocessor.preprocessed"
   ]
  },
  {
   "cell_type": "code",
   "execution_count": 2,
   "metadata": {
    "scrolled": true
   },
   "outputs": [],
   "source": [
    "def divide_sets(predicting_column_indices, test_size):\n",
    "    random_array = random.sample(range(df.shape[0]), test_size)\n",
    "    x_train = df.drop(random_array).drop(df.columns[predicting_column_indices], axis=1)\n",
    "    y_train = df.drop(random_array).iloc[:, predicting_column_indices]\n",
    "    x_test = df.iloc[random_array, :].drop(df.columns[predicting_column_indices], axis=1)\n",
    "    y_test = df.iloc[random_array, predicting_column_indices]\n",
    "    return x_train.values, y_train.values, x_test.values, y_test.values"
   ]
  },
  {
   "cell_type": "code",
   "execution_count": 3,
   "metadata": {},
   "outputs": [],
   "source": [
    "def get_batch(step, batch_size, x_train, y_train):\n",
    "    training_data_size = x_train.shape[0]\n",
    "    start_idx = step * batch_size\n",
    "    end_idx = (step + 1) * batch_size\n",
    "    if end_idx > training_data_size:\n",
    "        end_idx = training_data_size\n",
    "    return (\n",
    "        x_train[start_idx:end_idx, :],\n",
    "        y_train[start_idx:end_idx, :]\n",
    "    )"
   ]
  },
  {
   "cell_type": "code",
   "execution_count": 7,
   "metadata": {},
   "outputs": [],
   "source": [
    "def build_layer(L_in, in_size, out_size, keep_prob):\n",
    "    W = tf.get_variable(\n",
    "        str(id(L_in)),\n",
    "        shape=[in_size, out_size],\n",
    "        initializer=tf.contrib.layers.xavier_initializer()\n",
    "    )\n",
    "    #W = tf.Variable(tf.random_normal([in_size, out_size]))\n",
    "    b = tf.Variable(tf.random_normal([out_size]))\n",
    "    L = tf.nn.relu(tf.matmul(L_in, W) + b)\n",
    "    return tf.nn.dropout(L, keep_prob=keep_prob)\n",
    "\n",
    "def build_network(layer_sizes, learning_rate):\n",
    "    X = tf.placeholder(tf.float32, shape=[None, layer_sizes[0]])\n",
    "    Y = tf.placeholder(tf.float32, shape=[None, layer_sizes[-1]])\n",
    "    keep_prob = tf.placeholder(tf.float32)\n",
    "\n",
    "    L1 = build_layer(X, layer_sizes[0], layer_sizes[1], keep_prob)\n",
    "    L2 = build_layer(L1, layer_sizes[1], layer_sizes[2], keep_prob)\n",
    "    L3 = build_layer(L2, layer_sizes[2], layer_sizes[3], keep_prob)\n",
    "    L4 = build_layer(L3, layer_sizes[3], layer_sizes[4], keep_prob)\n",
    "    L5 = build_layer(L4, layer_sizes[4], layer_sizes[5], keep_prob)\n",
    "    L6 = build_layer(L5, layer_sizes[5], layer_sizes[6], keep_prob)\n",
    "    hypothesis = build_layer(L6, layer_sizes[6], layer_sizes[7], keep_prob)\n",
    "\n",
    "    cost = tf.reduce_mean(\n",
    "        tf.nn.softmax_cross_entropy_with_logits_v2(\n",
    "            logits=hypothesis, labels=Y\n",
    "        ))\n",
    "    optimizer = tf.train.AdamOptimizer(learning_rate=learning_rate)\n",
    "    train = optimizer.minimize(cost)\n",
    "    \n",
    "    return train, cost, hypothesis, X, Y, keep_prob"
   ]
  },
  {
   "cell_type": "code",
   "execution_count": 15,
   "metadata": {},
   "outputs": [],
   "source": [
    "def run(\n",
    "    training_data_size, batch_size, training_epochs,\n",
    "    cost, train, X, Y, keep_probability):\n",
    "    total_batch = int(training_data_size / batch_size)\n",
    "    sess = tf.Session()\n",
    "    sess.run(tf.global_variables_initializer())\n",
    "    for epoch in range(training_epochs):\n",
    "        avg_cost = 0\n",
    "        for step in range(total_batch):\n",
    "            batch_x, batch_y = get_batch(step, batch_size, x_train, y_train)\n",
    "            cost_val, _ = sess.run(\n",
    "                [cost, train],\n",
    "                feed_dict={X: batch_x, Y: batch_y, keep_prob: keep_probability}\n",
    "            )\n",
    "            avg_cost += cost_val / total_batch\n",
    "        print('Epoch:', '%04d' % (epoch + 1), 'cost = ', '{:.9f}'.format(avg_cost * 1e5))\n",
    "    return sess"
   ]
  },
  {
   "cell_type": "code",
   "execution_count": 17,
   "metadata": {},
   "outputs": [],
   "source": [
    "def calc_accuracy(hypothesis, X, Y, x_test, y_test, keep_prob):\n",
    "    correct_prediction = tf.equal(tf.argmax(hypothesis, 1), tf.argmax(Y, 1))\n",
    "    accuracy = tf.reduce_mean(tf.cast(correct_prediction, tf.float32))\n",
    "    accuracy = tf.reduce_mean(tf.exp(-tf.square((hypothesis - Y) / 3)))\n",
    "    return sess.run(accuracy, feed_dict={X: x_test, Y: y_test, keep_prob: 1})"
   ]
  },
  {
   "cell_type": "code",
   "execution_count": 18,
   "metadata": {},
   "outputs": [
    {
     "name": "stdout",
     "output_type": "stream",
     "text": [
      "Epoch: 0001 cost =  0.000000000\n",
      "Epoch: 0002 cost =  0.000000000\n",
      "Epoch: 0003 cost =  0.000000000\n",
      "Epoch: 0004 cost =  0.000000000\n",
      "Epoch: 0005 cost =  0.000000000\n",
      "Epoch: 0006 cost =  0.000000000\n",
      "Epoch: 0007 cost =  0.000000000\n",
      "Epoch: 0008 cost =  0.000000000\n",
      "Epoch: 0009 cost =  0.000000000\n",
      "Epoch: 0010 cost =  0.000000000\n",
      "Train_accuracy:  0.8846947\n",
      "Test accuracy:  0.8776823\n"
     ]
    }
   ],
   "source": [
    "test_size = 200\n",
    "predicting_column_indices = [0]\n",
    "learning_rate = 1e-7 \n",
    "training_epochs = 10\n",
    "batch_size = 100\n",
    "keep_probability = 1\n",
    "\n",
    "x_train, y_train, x_test, y_test = divide_sets(\n",
    "    predicting_column_indices, test_size\n",
    ")\n",
    "training_data_size = x_train.shape[0]\n",
    "layer_sizes = [x_train.shape[1], 300, 250, 200, 150, 100, 50, y_train.shape[1]]\n",
    "train, cost, hypothesis, X, Y, keep_prob = build_network(layer_sizes, learning_rate)\n",
    "sess = run(\n",
    "    training_data_size, batch_size, training_epochs,\n",
    "    cost, train, X, Y, keep_probability\n",
    ")\n",
    "print(\"Train_accuracy: \", calc_accuracy(hypothesis, X, Y, x_train, y_train, keep_prob))\n",
    "print(\"Test accuracy: \", calc_accuracy(hypothesis, X, Y, x_test, y_test, keep_prob))"
   ]
  }
 ],
 "metadata": {
  "kernelspec": {
   "display_name": "Python 3",
   "language": "python",
   "name": "python3"
  },
  "language_info": {
   "codemirror_mode": {
    "name": "ipython",
    "version": 3
   },
   "file_extension": ".py",
   "mimetype": "text/x-python",
   "name": "python",
   "nbconvert_exporter": "python",
   "pygments_lexer": "ipython3",
   "version": "3.6.4"
  }
 },
 "nbformat": 4,
 "nbformat_minor": 2
}
